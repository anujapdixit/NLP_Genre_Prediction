{
 "cells": [
  {
   "cell_type": "code",
   "execution_count": 24,
   "metadata": {},
   "outputs": [],
   "source": [
    "import pandas as pd\n",
    "import re\n",
    "import string\n",
    "punct = string.punctuation"
   ]
  },
  {
   "cell_type": "code",
   "execution_count": 108,
   "metadata": {},
   "outputs": [],
   "source": [
    "df = pd.read_excel('lyrics.xlsx')"
   ]
  },
  {
   "cell_type": "code",
   "execution_count": 54,
   "metadata": {},
   "outputs": [],
   "source": [
    "df = df.rename({'Unnamed: 0':'ID'},axis = 'columns')"
   ]
  },
  {
   "cell_type": "code",
   "execution_count": 109,
   "metadata": {},
   "outputs": [],
   "source": [
    "df.drop('lyrics',inplace=True,axis=1)\n",
    "df = df.rename({'cleaned_lyrics':'lyrics'},axis = 'columns')"
   ]
  },
  {
   "cell_type": "code",
   "execution_count": 110,
   "metadata": {},
   "outputs": [
    {
     "data": {
      "text/html": [
       "<div>\n",
       "<style scoped>\n",
       "    .dataframe tbody tr th:only-of-type {\n",
       "        vertical-align: middle;\n",
       "    }\n",
       "\n",
       "    .dataframe tbody tr th {\n",
       "        vertical-align: top;\n",
       "    }\n",
       "\n",
       "    .dataframe thead th {\n",
       "        text-align: right;\n",
       "    }\n",
       "</style>\n",
       "<table border=\"1\" class=\"dataframe\">\n",
       "  <thead>\n",
       "    <tr style=\"text-align: right;\">\n",
       "      <th></th>\n",
       "      <th>song</th>\n",
       "      <th>artist</th>\n",
       "      <th>lyrics</th>\n",
       "      <th>genre</th>\n",
       "    </tr>\n",
       "  </thead>\n",
       "  <tbody>\n",
       "    <tr>\n",
       "      <th>0</th>\n",
       "      <td>you-ve-got-a-friend</td>\n",
       "      <td>you-ve-got-a-friend</td>\n",
       "      <td>When 're troubled And need helping hand And no...</td>\n",
       "      <td>Country</td>\n",
       "    </tr>\n",
       "    <tr>\n",
       "      <th>1</th>\n",
       "      <td>her-name-is</td>\n",
       "      <td>her-name-is</td>\n",
       "      <td>Oh , I love ca n't live without And I 've got ...</td>\n",
       "      <td>Country</td>\n",
       "    </tr>\n",
       "    <tr>\n",
       "      <th>2</th>\n",
       "      <td>forgive-me</td>\n",
       "      <td>forgive-me</td>\n",
       "      <td>They tell God forgives almost anything They te...</td>\n",
       "      <td>Country</td>\n",
       "    </tr>\n",
       "    <tr>\n",
       "      <th>3</th>\n",
       "      <td>roses-are-red-my-love</td>\n",
       "      <td>roses-are-red-my-love</td>\n",
       "      <td>Roses red love violet blue Sugar sweet love sw...</td>\n",
       "      <td>Country</td>\n",
       "    </tr>\n",
       "    <tr>\n",
       "      <th>4</th>\n",
       "      <td>happy-birthday-to-you</td>\n",
       "      <td>happy-birthday-to-you</td>\n",
       "      <td>I 'm Eddy Arnold I wan na tell About performed...</td>\n",
       "      <td>Country</td>\n",
       "    </tr>\n",
       "  </tbody>\n",
       "</table>\n",
       "</div>"
      ],
      "text/plain": [
       "                    song                 artist  \\\n",
       "0    you-ve-got-a-friend    you-ve-got-a-friend   \n",
       "1            her-name-is            her-name-is   \n",
       "2             forgive-me             forgive-me   \n",
       "3  roses-are-red-my-love  roses-are-red-my-love   \n",
       "4  happy-birthday-to-you  happy-birthday-to-you   \n",
       "\n",
       "                                              lyrics    genre  \n",
       "0  When 're troubled And need helping hand And no...  Country  \n",
       "1  Oh , I love ca n't live without And I 've got ...  Country  \n",
       "2  They tell God forgives almost anything They te...  Country  \n",
       "3  Roses red love violet blue Sugar sweet love sw...  Country  \n",
       "4  I 'm Eddy Arnold I wan na tell About performed...  Country  "
      ]
     },
     "execution_count": 110,
     "metadata": {},
     "output_type": "execute_result"
    }
   ],
   "source": [
    "df.head()"
   ]
  },
  {
   "cell_type": "code",
   "execution_count": 111,
   "metadata": {},
   "outputs": [
    {
     "data": {
      "text/plain": [
       "Country       50\n",
       "RythBlues     50\n",
       "Rock          50\n",
       "Electronic    50\n",
       "Jazz          50\n",
       "Metal         50\n",
       "HipHop        50\n",
       "Indie         50\n",
       "Pop           50\n",
       "Folk          50\n",
       "Name: genre, dtype: int64"
      ]
     },
     "execution_count": 111,
     "metadata": {},
     "output_type": "execute_result"
    }
   ],
   "source": [
    "df.genre.value_counts()"
   ]
  },
  {
   "cell_type": "code",
   "execution_count": 112,
   "metadata": {},
   "outputs": [],
   "source": [
    "df.dropna(inplace=True)"
   ]
  },
  {
   "cell_type": "code",
   "execution_count": 59,
   "metadata": {},
   "outputs": [],
   "source": [
    "df.lyrics = df.lyrics.astype(str)"
   ]
  },
  {
   "cell_type": "code",
   "execution_count": 113,
   "metadata": {},
   "outputs": [
    {
     "data": {
      "text/plain": [
       "(500, 4)"
      ]
     },
     "execution_count": 113,
     "metadata": {},
     "output_type": "execute_result"
    }
   ],
   "source": [
    "df.shape"
   ]
  },
  {
   "cell_type": "code",
   "execution_count": 30,
   "metadata": {},
   "outputs": [],
   "source": [
    "df = df.astype(str)"
   ]
  },
  {
   "cell_type": "code",
   "execution_count": 114,
   "metadata": {},
   "outputs": [],
   "source": [
    "df.lyrics = df.lyrics.apply(lambda x:' '.join([word for word in x.split() if word not in punct]))\n",
    "df.lyrics = df.lyrics.apply(lambda x:' '.join([word for word in x.split() if len(word) > 3]))"
   ]
  },
  {
   "cell_type": "code",
   "execution_count": 115,
   "metadata": {},
   "outputs": [],
   "source": [
    "def spaces(sent):\n",
    "    sent = re.sub('\\s+', ' ', sent)\n",
    "    return sent\n",
    "\n",
    "df.lyrics = df.lyrics.apply(spaces)"
   ]
  },
  {
   "cell_type": "code",
   "execution_count": 116,
   "metadata": {},
   "outputs": [
    {
     "data": {
      "text/plain": [
       "'When troubled need helping hand nothing nothing going right Close think soon brighten even darkest night call name know wherever come running Winter spring summer fall call friend Grows dark full cloud north wind begin blow Keep head together call name loud Soon hear knocking door call name know wherever come running Winter spring summer fall call good know friend When people cold They hurt desert take soul call name know wherever come running Winter spring summer fall call friend friend good know friend good know friend'"
      ]
     },
     "execution_count": 116,
     "metadata": {},
     "output_type": "execute_result"
    }
   ],
   "source": [
    "df.lyrics[0]"
   ]
  },
  {
   "cell_type": "code",
   "execution_count": 117,
   "metadata": {},
   "outputs": [],
   "source": [
    "df.lyrics = df.lyrics.str.lower()\n",
    "df['tokens'] = df.lyrics.str.split()\n",
    "df['similarity'] = \" \""
   ]
  },
  {
   "cell_type": "code",
   "execution_count": 64,
   "metadata": {},
   "outputs": [],
   "source": [
    "df_Rock = df[df.genre == 'Rock'][:50]\n",
    "df_Pop = df[df.genre == 'Pop'][:50]\n",
    "df_Metal = df[df.genre == 'Metal'][:50]\n",
    "df_HipHop = df[df.genre == 'HipHop'][:50]\n",
    "df_Country = df[df.genre == 'Country'][:50]\n",
    "df_Jazz = df[df.genre == 'Jazz'][:50]\n",
    "df_Electronic = df[df.genre == 'Electronic'][:50]\n",
    "df_RythBlues = df[df.genre == 'RythBlues'][:50]\n",
    "df_Indie = df[df.genre == 'Indie'][:50]\n",
    "df_Folk = df[df.genre == 'Folk'][:50]"
   ]
  },
  {
   "cell_type": "code",
   "execution_count": 76,
   "metadata": {},
   "outputs": [],
   "source": [
    "df_new = pd.concat([df_Rock,df_Pop,df_Metal,df_HipHop,df_Country,df_Jazz,df_Electronic,df_RythBlues,df_Indie,df_Folk],axis = 0)"
   ]
  },
  {
   "cell_type": "code",
   "execution_count": 77,
   "metadata": {},
   "outputs": [],
   "source": [
    "df_new = df_new.astype(str)"
   ]
  },
  {
   "cell_type": "code",
   "execution_count": null,
   "metadata": {},
   "outputs": [],
   "source": [
    "df_new.lyrics = df_new.lyrics.apply(lambda x:' '.join([word for word in x.split() if word not in punct]))\n",
    "df_new.lyrics = df_new.lyrics.apply(lambda x:' '.join([word for word in x.split() if len(word) > 3]))"
   ]
  },
  {
   "cell_type": "code",
   "execution_count": 66,
   "metadata": {},
   "outputs": [
    {
     "data": {
      "text/plain": [
       "Index(['ID', 'song', 'artist', 'lyrics', 'genre'], dtype='object')"
      ]
     },
     "execution_count": 66,
     "metadata": {},
     "output_type": "execute_result"
    }
   ],
   "source": [
    "df_new.columns"
   ]
  },
  {
   "cell_type": "code",
   "execution_count": 48,
   "metadata": {},
   "outputs": [],
   "source": [
    "df_new = df_new.rename({'Unnamed: 0':'Id'},axis = 'columns')"
   ]
  },
  {
   "cell_type": "code",
   "execution_count": 78,
   "metadata": {},
   "outputs": [
    {
     "data": {
      "text/html": [
       "<div>\n",
       "<style scoped>\n",
       "    .dataframe tbody tr th:only-of-type {\n",
       "        vertical-align: middle;\n",
       "    }\n",
       "\n",
       "    .dataframe tbody tr th {\n",
       "        vertical-align: top;\n",
       "    }\n",
       "\n",
       "    .dataframe thead th {\n",
       "        text-align: right;\n",
       "    }\n",
       "</style>\n",
       "<table border=\"1\" class=\"dataframe\">\n",
       "  <thead>\n",
       "    <tr style=\"text-align: right;\">\n",
       "      <th></th>\n",
       "      <th>ID</th>\n",
       "      <th>song</th>\n",
       "      <th>artist</th>\n",
       "      <th>lyrics</th>\n",
       "      <th>genre</th>\n",
       "    </tr>\n",
       "  </thead>\n",
       "  <tbody>\n",
       "    <tr>\n",
       "      <th>0</th>\n",
       "      <td>1</td>\n",
       "      <td>walk-me-out-in-the-morning-dew</td>\n",
       "      <td>walk-me-out-in-the-morning-dew</td>\n",
       "      <td>Walk mornin honey Walk mornin today walk morni...</td>\n",
       "      <td>Rock</td>\n",
       "    </tr>\n",
       "    <tr>\n",
       "      <th>1</th>\n",
       "      <td>2</td>\n",
       "      <td>helping-you-hate-me</td>\n",
       "      <td>helping-you-hate-me</td>\n",
       "      <td>know clich When doomed could start making head...</td>\n",
       "      <td>Rock</td>\n",
       "    </tr>\n",
       "    <tr>\n",
       "      <th>2</th>\n",
       "      <td>3</td>\n",
       "      <td>trailerpark</td>\n",
       "      <td>trailerpark</td>\n",
       "      <td>Fist Fist five Fist country soul sleep night w...</td>\n",
       "      <td>Rock</td>\n",
       "    </tr>\n",
       "    <tr>\n",
       "      <th>3</th>\n",
       "      <td>4</td>\n",
       "      <td>when-i-see-his-face</td>\n",
       "      <td>when-i-see-his-face</td>\n",
       "      <td>could could could Nothing going When face tell...</td>\n",
       "      <td>Rock</td>\n",
       "    </tr>\n",
       "    <tr>\n",
       "      <th>4</th>\n",
       "      <td>6</td>\n",
       "      <td>call-your-name</td>\n",
       "      <td>call-your-name</td>\n",
       "      <td>call name blame unfair sleep night Since gone ...</td>\n",
       "      <td>Rock</td>\n",
       "    </tr>\n",
       "  </tbody>\n",
       "</table>\n",
       "</div>"
      ],
      "text/plain": [
       "  ID                            song                          artist  \\\n",
       "0  1  walk-me-out-in-the-morning-dew  walk-me-out-in-the-morning-dew   \n",
       "1  2             helping-you-hate-me             helping-you-hate-me   \n",
       "2  3                     trailerpark                     trailerpark   \n",
       "3  4             when-i-see-his-face             when-i-see-his-face   \n",
       "4  6                  call-your-name                  call-your-name   \n",
       "\n",
       "                                              lyrics genre  \n",
       "0  Walk mornin honey Walk mornin today walk morni...  Rock  \n",
       "1  know clich When doomed could start making head...  Rock  \n",
       "2  Fist Fist five Fist country soul sleep night w...  Rock  \n",
       "3  could could could Nothing going When face tell...  Rock  \n",
       "4  call name blame unfair sleep night Since gone ...  Rock  "
      ]
     },
     "execution_count": 78,
     "metadata": {},
     "output_type": "execute_result"
    }
   ],
   "source": [
    "df_new.head()"
   ]
  },
  {
   "cell_type": "code",
   "execution_count": 79,
   "metadata": {},
   "outputs": [
    {
     "data": {
      "text/plain": [
       "\"Walk mornin honey Walk mornin today walk mornin honey walk mornin today thought heard baby mornin' thought heard baby today hear baby mornin' hear baby today Where people gone honey Where people gone today Well need worryin people never people anyway thought heard young moan mornin' thought heard young moan today thought heard young moan mornin' walk morning today\""
      ]
     },
     "execution_count": 79,
     "metadata": {},
     "output_type": "execute_result"
    }
   ],
   "source": [
    "df_new.lyrics[0]"
   ]
  },
  {
   "cell_type": "code",
   "execution_count": 94,
   "metadata": {},
   "outputs": [],
   "source": [
    "df.lyrics = df.lyrics.str.lower()\n",
    "df['words_lyrics'] = df.lyrics.str.split()\n",
    "df['similarity'] = \" \""
   ]
  },
  {
   "cell_type": "code",
   "execution_count": 95,
   "metadata": {},
   "outputs": [
    {
     "data": {
      "text/plain": [
       "(500, 7)"
      ]
     },
     "execution_count": 95,
     "metadata": {},
     "output_type": "execute_result"
    }
   ],
   "source": [
    "df_new.shape"
   ]
  },
  {
   "cell_type": "code",
   "execution_count": 121,
   "metadata": {},
   "outputs": [
    {
     "data": {
      "text/plain": [
       "'roses love violet blue sugar sweet love sweet long long time graduation handed book signed roses love dated school came wrote book next name roses love then went away found someone read letter dear wrote back roses love violet blue sugar sweet love good luck bless little girl look like some write book roses love'"
      ]
     },
     "execution_count": 121,
     "metadata": {},
     "output_type": "execute_result"
    }
   ],
   "source": [
    "df.lyrics[3]"
   ]
  },
  {
   "cell_type": "code",
   "execution_count": 119,
   "metadata": {},
   "outputs": [
    {
     "data": {
      "text/html": [
       "<div>\n",
       "<style scoped>\n",
       "    .dataframe tbody tr th:only-of-type {\n",
       "        vertical-align: middle;\n",
       "    }\n",
       "\n",
       "    .dataframe tbody tr th {\n",
       "        vertical-align: top;\n",
       "    }\n",
       "\n",
       "    .dataframe thead th {\n",
       "        text-align: right;\n",
       "    }\n",
       "</style>\n",
       "<table border=\"1\" class=\"dataframe\">\n",
       "  <thead>\n",
       "    <tr style=\"text-align: right;\">\n",
       "      <th></th>\n",
       "      <th>song</th>\n",
       "      <th>artist</th>\n",
       "      <th>lyrics</th>\n",
       "      <th>genre</th>\n",
       "      <th>tokens</th>\n",
       "      <th>similarity</th>\n",
       "    </tr>\n",
       "  </thead>\n",
       "  <tbody>\n",
       "    <tr>\n",
       "      <th>0</th>\n",
       "      <td>you-ve-got-a-friend</td>\n",
       "      <td>you-ve-got-a-friend</td>\n",
       "      <td>when troubled need helping hand nothing nothin...</td>\n",
       "      <td>Country</td>\n",
       "      <td>[when, troubled, need, helping, hand, nothing,...</td>\n",
       "      <td></td>\n",
       "    </tr>\n",
       "    <tr>\n",
       "      <th>1</th>\n",
       "      <td>her-name-is</td>\n",
       "      <td>her-name-is</td>\n",
       "      <td>love live without urge tell world love secret ...</td>\n",
       "      <td>Country</td>\n",
       "      <td>[love, live, without, urge, tell, world, love,...</td>\n",
       "      <td></td>\n",
       "    </tr>\n",
       "    <tr>\n",
       "      <th>2</th>\n",
       "      <td>forgive-me</td>\n",
       "      <td>forgive-me</td>\n",
       "      <td>they tell forgives almost anything they tell f...</td>\n",
       "      <td>Country</td>\n",
       "      <td>[they, tell, forgives, almost, anything, they,...</td>\n",
       "      <td></td>\n",
       "    </tr>\n",
       "    <tr>\n",
       "      <th>3</th>\n",
       "      <td>roses-are-red-my-love</td>\n",
       "      <td>roses-are-red-my-love</td>\n",
       "      <td>roses love violet blue sugar sweet love sweet ...</td>\n",
       "      <td>Country</td>\n",
       "      <td>[roses, love, violet, blue, sugar, sweet, love...</td>\n",
       "      <td></td>\n",
       "    </tr>\n",
       "    <tr>\n",
       "      <th>4</th>\n",
       "      <td>happy-birthday-to-you</td>\n",
       "      <td>happy-birthday-to-you</td>\n",
       "      <td>eddy arnold tell about performed song past cen...</td>\n",
       "      <td>Country</td>\n",
       "      <td>[eddy, arnold, tell, about, performed, song, p...</td>\n",
       "      <td></td>\n",
       "    </tr>\n",
       "  </tbody>\n",
       "</table>\n",
       "</div>"
      ],
      "text/plain": [
       "                    song                 artist  \\\n",
       "0    you-ve-got-a-friend    you-ve-got-a-friend   \n",
       "1            her-name-is            her-name-is   \n",
       "2             forgive-me             forgive-me   \n",
       "3  roses-are-red-my-love  roses-are-red-my-love   \n",
       "4  happy-birthday-to-you  happy-birthday-to-you   \n",
       "\n",
       "                                              lyrics    genre  \\\n",
       "0  when troubled need helping hand nothing nothin...  Country   \n",
       "1  love live without urge tell world love secret ...  Country   \n",
       "2  they tell forgives almost anything they tell f...  Country   \n",
       "3  roses love violet blue sugar sweet love sweet ...  Country   \n",
       "4  eddy arnold tell about performed song past cen...  Country   \n",
       "\n",
       "                                              tokens similarity  \n",
       "0  [when, troubled, need, helping, hand, nothing,...             \n",
       "1  [love, live, without, urge, tell, world, love,...             \n",
       "2  [they, tell, forgives, almost, anything, they,...             \n",
       "3  [roses, love, violet, blue, sugar, sweet, love...             \n",
       "4  [eddy, arnold, tell, about, performed, song, p...             "
      ]
     },
     "execution_count": 119,
     "metadata": {},
     "output_type": "execute_result"
    }
   ],
   "source": [
    "df.head()"
   ]
  },
  {
   "cell_type": "code",
   "execution_count": 97,
   "metadata": {},
   "outputs": [
    {
     "data": {
      "text/plain": [
       "Index(['ID', 'song', 'artist', 'lyrics', 'genre', 'words_lyrics',\n",
       "       'similarity'],\n",
       "      dtype='object')"
      ]
     },
     "execution_count": 97,
     "metadata": {},
     "output_type": "execute_result"
    }
   ],
   "source": [
    "df_new.columns"
   ]
  },
  {
   "cell_type": "code",
   "execution_count": 124,
   "metadata": {},
   "outputs": [
    {
     "data": {
      "text/plain": [
       "'when troubled need helping hand nothing nothing going right close think soon brighten even darkest night call name know wherever come running winter spring summer fall call friend grows dark full cloud north wind begin blow keep head together call name loud soon hear knocking door call name know wherever come running winter spring summer fall call good know friend when people cold they hurt desert take soul call name know wherever come running winter spring summer fall call friend friend good know friend good know friend'"
      ]
     },
     "execution_count": 124,
     "metadata": {},
     "output_type": "execute_result"
    }
   ],
   "source": [
    "df.lyrics[0]"
   ]
  },
  {
   "cell_type": "code",
   "execution_count": 125,
   "metadata": {},
   "outputs": [
    {
     "data": {
      "text/plain": [
       "['when',\n",
       " 'troubled',\n",
       " 'need',\n",
       " 'helping',\n",
       " 'hand',\n",
       " 'nothing',\n",
       " 'nothing',\n",
       " 'going',\n",
       " 'right',\n",
       " 'close',\n",
       " 'think',\n",
       " 'soon',\n",
       " 'brighten',\n",
       " 'even',\n",
       " 'darkest',\n",
       " 'night',\n",
       " 'call',\n",
       " 'name',\n",
       " 'know',\n",
       " 'wherever',\n",
       " 'come',\n",
       " 'running',\n",
       " 'winter',\n",
       " 'spring',\n",
       " 'summer',\n",
       " 'fall',\n",
       " 'call',\n",
       " 'friend',\n",
       " 'grows',\n",
       " 'dark',\n",
       " 'full',\n",
       " 'cloud',\n",
       " 'north',\n",
       " 'wind',\n",
       " 'begin',\n",
       " 'blow',\n",
       " 'keep',\n",
       " 'head',\n",
       " 'together',\n",
       " 'call',\n",
       " 'name',\n",
       " 'loud',\n",
       " 'soon',\n",
       " 'hear',\n",
       " 'knocking',\n",
       " 'door',\n",
       " 'call',\n",
       " 'name',\n",
       " 'know',\n",
       " 'wherever',\n",
       " 'come',\n",
       " 'running',\n",
       " 'winter',\n",
       " 'spring',\n",
       " 'summer',\n",
       " 'fall',\n",
       " 'call',\n",
       " 'good',\n",
       " 'know',\n",
       " 'friend',\n",
       " 'when',\n",
       " 'people',\n",
       " 'cold',\n",
       " 'they',\n",
       " 'hurt',\n",
       " 'desert',\n",
       " 'take',\n",
       " 'soul',\n",
       " 'call',\n",
       " 'name',\n",
       " 'know',\n",
       " 'wherever',\n",
       " 'come',\n",
       " 'running',\n",
       " 'winter',\n",
       " 'spring',\n",
       " 'summer',\n",
       " 'fall',\n",
       " 'call',\n",
       " 'friend',\n",
       " 'friend',\n",
       " 'good',\n",
       " 'know',\n",
       " 'friend',\n",
       " 'good',\n",
       " 'know',\n",
       " 'friend']"
      ]
     },
     "execution_count": 125,
     "metadata": {},
     "output_type": "execute_result"
    }
   ],
   "source": [
    "df.tokens[0]"
   ]
  },
  {
   "cell_type": "code",
   "execution_count": 137,
   "metadata": {},
   "outputs": [
    {
     "name": "stdout",
     "output_type": "stream",
     "text": [
      "roses love violet blue sugar sweet love sweet long long time graduation handed book signed roses love dated school came wrote book next name roses love then went away found someone read letter dear wrote back roses love violet blue sugar sweet love good luck bless little girl look like some write book roses love\n"
     ]
    }
   ],
   "source": [
    "print(df.lyrics[3])"
   ]
  },
  {
   "cell_type": "code",
   "execution_count": 135,
   "metadata": {},
   "outputs": [
    {
     "name": "stdout",
     "output_type": "stream",
     "text": [
      "1.0\n"
     ]
    }
   ],
   "source": [
    "l1 = ['roses', 'love', 'violet', 'blue', 'sugar', 'sweet', 'love', 'sweet', 'long', 'long', 'time', 'graduation', 'handed', 'book', 'signed', 'roses', 'love', 'dated', 'school', 'came', 'wrote', 'book', 'next', 'name', 'roses', 'love', 'then', 'went', 'away', 'found', 'someone', 'read', 'letter', 'dear', 'wrote', 'back', 'roses', 'love', 'violet', 'blue', 'sugar', 'sweet', 'love', 'good', 'luck', 'bless', 'little', 'girl', 'look', 'like', 'some', 'write', 'book', 'roses', 'love']\n",
    "l2 = ['roses', 'love', 'violet', 'blue', 'sugar', 'sweet', 'love', 'sweet', 'long', 'long', 'time', 'graduation', 'handed', 'book', 'signed', 'roses', 'love', 'dated', 'school', 'came', 'wrote', 'book', 'next', 'name', 'roses', 'love', 'then', 'went', 'away', 'found', 'someone', 'read', 'letter', 'dear', 'wrote', 'back', 'roses', 'love', 'violet', 'blue', 'sugar', 'sweet', 'love', 'good', 'luck', 'bless', 'little', 'girl', 'look', 'like', 'some', 'write', 'book', 'roses', 'love']\n",
    "s1 = set(l1)\n",
    "s2 = set(l2)\n",
    "print((len(s1.intersection(s2)) / len(s1.union(s2))))"
   ]
  },
  {
   "cell_type": "code",
   "execution_count": 142,
   "metadata": {},
   "outputs": [
    {
     "data": {
      "text/html": [
       "<div>\n",
       "<style scoped>\n",
       "    .dataframe tbody tr th:only-of-type {\n",
       "        vertical-align: middle;\n",
       "    }\n",
       "\n",
       "    .dataframe tbody tr th {\n",
       "        vertical-align: top;\n",
       "    }\n",
       "\n",
       "    .dataframe thead th {\n",
       "        text-align: right;\n",
       "    }\n",
       "</style>\n",
       "<table border=\"1\" class=\"dataframe\">\n",
       "  <thead>\n",
       "    <tr style=\"text-align: right;\">\n",
       "      <th></th>\n",
       "      <th>song</th>\n",
       "      <th>artist</th>\n",
       "      <th>lyrics</th>\n",
       "      <th>genre</th>\n",
       "      <th>tokens</th>\n",
       "      <th>similarity</th>\n",
       "    </tr>\n",
       "  </thead>\n",
       "  <tbody>\n",
       "    <tr>\n",
       "      <th>0</th>\n",
       "      <td>you-ve-got-a-friend</td>\n",
       "      <td>you-ve-got-a-friend</td>\n",
       "      <td>when troubled need helping hand nothing nothin...</td>\n",
       "      <td>Country</td>\n",
       "      <td>[when, troubled, need, helping, hand, nothing,...</td>\n",
       "      <td>0.0252101</td>\n",
       "    </tr>\n",
       "    <tr>\n",
       "      <th>1</th>\n",
       "      <td>her-name-is</td>\n",
       "      <td>her-name-is</td>\n",
       "      <td>love live without urge tell world love secret ...</td>\n",
       "      <td>Country</td>\n",
       "      <td>[love, live, without, urge, tell, world, love,...</td>\n",
       "      <td>0.0252101</td>\n",
       "    </tr>\n",
       "    <tr>\n",
       "      <th>2</th>\n",
       "      <td>forgive-me</td>\n",
       "      <td>forgive-me</td>\n",
       "      <td>they tell forgives almost anything they tell f...</td>\n",
       "      <td>Country</td>\n",
       "      <td>[they, tell, forgives, almost, anything, they,...</td>\n",
       "      <td>0.0252101</td>\n",
       "    </tr>\n",
       "    <tr>\n",
       "      <th>3</th>\n",
       "      <td>roses-are-red-my-love</td>\n",
       "      <td>roses-are-red-my-love</td>\n",
       "      <td>roses love violet blue sugar sweet love sweet ...</td>\n",
       "      <td>Country</td>\n",
       "      <td>[roses, love, violet, blue, sugar, sweet, love...</td>\n",
       "      <td>0.0252101</td>\n",
       "    </tr>\n",
       "    <tr>\n",
       "      <th>4</th>\n",
       "      <td>happy-birthday-to-you</td>\n",
       "      <td>happy-birthday-to-you</td>\n",
       "      <td>eddy arnold tell about performed song past cen...</td>\n",
       "      <td>Country</td>\n",
       "      <td>[eddy, arnold, tell, about, performed, song, p...</td>\n",
       "      <td>0.0252101</td>\n",
       "    </tr>\n",
       "  </tbody>\n",
       "</table>\n",
       "</div>"
      ],
      "text/plain": [
       "                    song                 artist  \\\n",
       "0    you-ve-got-a-friend    you-ve-got-a-friend   \n",
       "1            her-name-is            her-name-is   \n",
       "2             forgive-me             forgive-me   \n",
       "3  roses-are-red-my-love  roses-are-red-my-love   \n",
       "4  happy-birthday-to-you  happy-birthday-to-you   \n",
       "\n",
       "                                              lyrics    genre  \\\n",
       "0  when troubled need helping hand nothing nothin...  Country   \n",
       "1  love live without urge tell world love secret ...  Country   \n",
       "2  they tell forgives almost anything they tell f...  Country   \n",
       "3  roses love violet blue sugar sweet love sweet ...  Country   \n",
       "4  eddy arnold tell about performed song past cen...  Country   \n",
       "\n",
       "                                              tokens similarity  \n",
       "0  [when, troubled, need, helping, hand, nothing,...  0.0252101  \n",
       "1  [love, live, without, urge, tell, world, love,...  0.0252101  \n",
       "2  [they, tell, forgives, almost, anything, they,...  0.0252101  \n",
       "3  [roses, love, violet, blue, sugar, sweet, love...  0.0252101  \n",
       "4  [eddy, arnold, tell, about, performed, song, p...  0.0252101  "
      ]
     },
     "execution_count": 142,
     "metadata": {},
     "output_type": "execute_result"
    }
   ],
   "source": [
    "df.head()"
   ]
  },
  {
   "cell_type": "code",
   "execution_count": 147,
   "metadata": {},
   "outputs": [
    {
     "name": "stdout",
     "output_type": "stream",
     "text": [
      "Enter a song lyrics roses love violet blue sugar sweet love sweet long long time graduation handed book signed roses love dated school came wrote book next name roses love then went away found someone read letter dear wrote back roses love violet blue sugar sweet love good luck bless little girl look like some write book roses love\n"
     ]
    },
    {
     "data": {
      "text/html": [
       "<div>\n",
       "<style scoped>\n",
       "    .dataframe tbody tr th:only-of-type {\n",
       "        vertical-align: middle;\n",
       "    }\n",
       "\n",
       "    .dataframe tbody tr th {\n",
       "        vertical-align: top;\n",
       "    }\n",
       "\n",
       "    .dataframe thead th {\n",
       "        text-align: right;\n",
       "    }\n",
       "</style>\n",
       "<table border=\"1\" class=\"dataframe\">\n",
       "  <thead>\n",
       "    <tr style=\"text-align: right;\">\n",
       "      <th></th>\n",
       "      <th>song</th>\n",
       "      <th>artist</th>\n",
       "      <th>lyrics</th>\n",
       "      <th>genre</th>\n",
       "      <th>tokens</th>\n",
       "      <th>similarity</th>\n",
       "    </tr>\n",
       "  </thead>\n",
       "  <tbody>\n",
       "    <tr>\n",
       "      <th>3</th>\n",
       "      <td>roses-are-red-my-love</td>\n",
       "      <td>roses-are-red-my-love</td>\n",
       "      <td>roses love violet blue sugar sweet love sweet ...</td>\n",
       "      <td>Country</td>\n",
       "      <td>[roses, love, violet, blue, sugar, sweet, love...</td>\n",
       "      <td>1</td>\n",
       "    </tr>\n",
       "    <tr>\n",
       "      <th>409</th>\n",
       "      <td>if-she-wants-me</td>\n",
       "      <td>if-she-wants-me</td>\n",
       "      <td>wrote letter nothing asked somebody could send...</td>\n",
       "      <td>Rock</td>\n",
       "      <td>[wrote, letter, nothing, asked, somebody, coul...</td>\n",
       "      <td>0.122807</td>\n",
       "    </tr>\n",
       "    <tr>\n",
       "      <th>495</th>\n",
       "      <td>i-ll-be-there</td>\n",
       "      <td>i-ll-be-there</td>\n",
       "      <td>written babyface debarge 1994 performed debarg...</td>\n",
       "      <td>RythBlues</td>\n",
       "      <td>[written, babyface, debarge, 1994, performed, ...</td>\n",
       "      <td>0.120482</td>\n",
       "    </tr>\n",
       "    <tr>\n",
       "      <th>269</th>\n",
       "      <td>night-wind</td>\n",
       "      <td>night-wind</td>\n",
       "      <td>love blown away night wind dream shared fell a...</td>\n",
       "      <td>Jazz</td>\n",
       "      <td>[love, blown, away, night, wind, dream, shared...</td>\n",
       "      <td>0.101449</td>\n",
       "    </tr>\n",
       "    <tr>\n",
       "      <th>468</th>\n",
       "      <td>reeling-and-rocking</td>\n",
       "      <td>reeling-and-rocking</td>\n",
       "      <td>well brought rockin chair back yard baby went ...</td>\n",
       "      <td>RythBlues</td>\n",
       "      <td>[well, brought, rockin, chair, back, yard, bab...</td>\n",
       "      <td>0.1</td>\n",
       "    </tr>\n",
       "    <tr>\n",
       "      <th>117</th>\n",
       "      <td>won-t-let-me-go</td>\n",
       "      <td>won-t-let-me-go</td>\n",
       "      <td>been time since first night good time since mo...</td>\n",
       "      <td>Folk</td>\n",
       "      <td>[been, time, since, first, night, good, time, ...</td>\n",
       "      <td>0.0985915</td>\n",
       "    </tr>\n",
       "    <tr>\n",
       "      <th>27</th>\n",
       "      <td>i-don-t-know-why</td>\n",
       "      <td>i-don-t-know-why</td>\n",
       "      <td>written billy burnette well know hang hand nig...</td>\n",
       "      <td>Country</td>\n",
       "      <td>[written, billy, burnette, well, know, hang, h...</td>\n",
       "      <td>0.0983607</td>\n",
       "    </tr>\n",
       "    <tr>\n",
       "      <th>362</th>\n",
       "      <td>sometimes</td>\n",
       "      <td>sometimes</td>\n",
       "      <td>come turn back have good when feeling blue hur...</td>\n",
       "      <td>Pop</td>\n",
       "      <td>[come, turn, back, have, good, when, feeling, ...</td>\n",
       "      <td>0.0963855</td>\n",
       "    </tr>\n",
       "    <tr>\n",
       "      <th>39</th>\n",
       "      <td>love-has-come-my-way</td>\n",
       "      <td>love-has-come-my-way</td>\n",
       "      <td>well look love finally come last look like lov...</td>\n",
       "      <td>Country</td>\n",
       "      <td>[well, look, love, finally, come, last, look, ...</td>\n",
       "      <td>0.0943396</td>\n",
       "    </tr>\n",
       "    <tr>\n",
       "      <th>298</th>\n",
       "      <td>down-hearted-blues</td>\n",
       "      <td>down-hearted-blues</td>\n",
       "      <td>hard love someone someone love disgusted heart...</td>\n",
       "      <td>Jazz</td>\n",
       "      <td>[hard, love, someone, someone, love, disgusted...</td>\n",
       "      <td>0.09375</td>\n",
       "    </tr>\n",
       "  </tbody>\n",
       "</table>\n",
       "</div>"
      ],
      "text/plain": [
       "                      song                 artist  \\\n",
       "3    roses-are-red-my-love  roses-are-red-my-love   \n",
       "409        if-she-wants-me        if-she-wants-me   \n",
       "495          i-ll-be-there          i-ll-be-there   \n",
       "269             night-wind             night-wind   \n",
       "468    reeling-and-rocking    reeling-and-rocking   \n",
       "117        won-t-let-me-go        won-t-let-me-go   \n",
       "27        i-don-t-know-why       i-don-t-know-why   \n",
       "362              sometimes              sometimes   \n",
       "39    love-has-come-my-way   love-has-come-my-way   \n",
       "298     down-hearted-blues     down-hearted-blues   \n",
       "\n",
       "                                                lyrics      genre  \\\n",
       "3    roses love violet blue sugar sweet love sweet ...    Country   \n",
       "409  wrote letter nothing asked somebody could send...       Rock   \n",
       "495  written babyface debarge 1994 performed debarg...  RythBlues   \n",
       "269  love blown away night wind dream shared fell a...       Jazz   \n",
       "468  well brought rockin chair back yard baby went ...  RythBlues   \n",
       "117  been time since first night good time since mo...       Folk   \n",
       "27   written billy burnette well know hang hand nig...    Country   \n",
       "362  come turn back have good when feeling blue hur...        Pop   \n",
       "39   well look love finally come last look like lov...    Country   \n",
       "298  hard love someone someone love disgusted heart...       Jazz   \n",
       "\n",
       "                                                tokens similarity  \n",
       "3    [roses, love, violet, blue, sugar, sweet, love...          1  \n",
       "409  [wrote, letter, nothing, asked, somebody, coul...   0.122807  \n",
       "495  [written, babyface, debarge, 1994, performed, ...   0.120482  \n",
       "269  [love, blown, away, night, wind, dream, shared...   0.101449  \n",
       "468  [well, brought, rockin, chair, back, yard, bab...        0.1  \n",
       "117  [been, time, since, first, night, good, time, ...  0.0985915  \n",
       "27   [written, billy, burnette, well, know, hang, h...  0.0983607  \n",
       "362  [come, turn, back, have, good, when, feeling, ...  0.0963855  \n",
       "39   [well, look, love, finally, come, last, look, ...  0.0943396  \n",
       "298  [hard, love, someone, someone, love, disgusted...    0.09375  "
      ]
     },
     "execution_count": 147,
     "metadata": {},
     "output_type": "execute_result"
    }
   ],
   "source": [
    "s = str(input('Enter a song lyrics '))\n",
    "list1 = s.split()\n",
    "for i in range(0,500):\n",
    "    list2 = df['tokens'][i]\n",
    "    s1 = set(list1)\n",
    "    s2 = set(list2) \n",
    "    df['similarity'][i] = (len(s1.intersection(s2)) / len(s1.union(s2)))\n",
    "\n",
    "df_sort = df.sort_values(by = 'similarity',ascending = False)\n",
    "df_sort.head(10)"
   ]
  },
  {
   "cell_type": "code",
   "execution_count": null,
   "metadata": {},
   "outputs": [],
   "source": []
  },
  {
   "cell_type": "code",
   "execution_count": null,
   "metadata": {},
   "outputs": [],
   "source": []
  }
 ],
 "metadata": {
  "kernelspec": {
   "display_name": "Python 3",
   "language": "python",
   "name": "python3"
  },
  "language_info": {
   "codemirror_mode": {
    "name": "ipython",
    "version": 3
   },
   "file_extension": ".py",
   "mimetype": "text/x-python",
   "name": "python",
   "nbconvert_exporter": "python",
   "pygments_lexer": "ipython3",
   "version": "3.7.6"
  }
 },
 "nbformat": 4,
 "nbformat_minor": 4
}

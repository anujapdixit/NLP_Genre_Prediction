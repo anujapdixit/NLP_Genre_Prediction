{
 "cells": [
  {
   "cell_type": "code",
   "execution_count": 3,
   "metadata": {},
   "outputs": [
    {
     "name": "stderr",
     "output_type": "stream",
     "text": [
      "[nltk_data] Downloading package wordnet to /Users/adwait/nltk_data...\n",
      "[nltk_data]   Package wordnet is already up-to-date!\n",
      "[nltk_data] Downloading package punkt to /Users/adwait/nltk_data...\n",
      "[nltk_data]   Package punkt is already up-to-date!\n"
     ]
    }
   ],
   "source": [
    "import pandas as pd\n",
    "import nltk\n",
    "from nltk.corpus import stopwords\n",
    "stop = set(stopwords.words('english'))\n",
    "import re\n",
    "import string\n",
    "punct = string.punctuation\n",
    "from nltk.stem import PorterStemmer\n",
    "from nltk.stem import WordNetLemmatizer\n",
    "from sklearn.utils import resample\n",
    "\n",
    "#Importing necessary libraries\n",
    "import pandas_profiling\n",
    "import nltk\n",
    "import numpy as np\n",
    "import pandas as pd\n",
    "import re\n",
    "import matplotlib.pyplot as plt \n",
    "import seaborn as sb\n",
    "from nltk.corpus import stopwords\n",
    "import warnings \n",
    "warnings.filterwarnings(\"ignore\")\n",
    "import unidecode\n",
    "from wordcloud import WordCloud\n",
    "from nltk.stem import WordNetLemmatizer \n",
    "nltk.download('wordnet')\n",
    "from nltk.stem import PorterStemmer\n",
    "nltk.download('punkt')\n",
    "from nltk.tokenize import word_tokenize \n",
    "import matplotlib.animation as animation\n",
    "import operator\n",
    "import plotly.express as px\n",
    "from collections import Counter\n",
    "from sklearn.model_selection import train_test_split\n",
    "from sklearn.ensemble import RandomForestClassifier\n",
    "from sklearn.tree import DecisionTreeClassifier \n",
    "from sklearn.svm import SVC\n",
    "from sklearn.metrics import accuracy_score, classification_report, confusion_matrix\n",
    "from sklearn.pipeline import Pipeline\n",
    "from sklearn.feature_extraction.text import TfidfVectorizer,CountVectorizer\n",
    "%matplotlib inline\n",
    "\n",
    "\n",
    "import pandas as pd\n",
    "import numpy as np\n",
    "import seaborn as sb\n",
    "#import plotly.graph_objects as go\n",
    "import matplotlib.pyplot  as plt\n",
    "#import plotly.express as px\n",
    "from collections import Counter\n",
    "import re\n",
    "#import unidecode\n",
    "from nltk.corpus import stopwords\n",
    "from nltk.stem import PorterStemmer,WordNetLemmatizer\n",
    "import nltk \n",
    "import string     \n",
    "from sklearn.feature_extraction.text import TfidfVectorizer,CountVectorizer\n",
    "from sklearn.model_selection import train_test_split\n",
    "from sklearn.metrics import classification_report,f1_score,confusion_matrix\n",
    "from sklearn.pipeline import Pipeline\n",
    "from sklearn.ensemble import RandomForestClassifier\n",
    "from sklearn.linear_model import LogisticRegression\n",
    "from sklearn.metrics import accuracy_score\n",
    "from sklearn.neighbors import KNeighborsClassifier\n",
    "from sklearn.naive_bayes import GaussianNB,MultinomialNB\n",
    "from sklearn.svm import SVC\n",
    "from sklearn.tree import DecisionTreeClassifier\n",
    "import warnings \n",
    "warnings.filterwarnings(\"ignore\")"
   ]
  },
  {
   "cell_type": "code",
   "execution_count": 4,
   "metadata": {},
   "outputs": [],
   "source": [
    "df = pd.read_csv('train.csv')"
   ]
  },
  {
   "cell_type": "code",
   "execution_count": 5,
   "metadata": {},
   "outputs": [
    {
     "data": {
      "text/html": [
       "<div>\n",
       "<style scoped>\n",
       "    .dataframe tbody tr th:only-of-type {\n",
       "        vertical-align: middle;\n",
       "    }\n",
       "\n",
       "    .dataframe tbody tr th {\n",
       "        vertical-align: top;\n",
       "    }\n",
       "\n",
       "    .dataframe thead th {\n",
       "        text-align: right;\n",
       "    }\n",
       "</style>\n",
       "<table border=\"1\" class=\"dataframe\">\n",
       "  <thead>\n",
       "    <tr style=\"text-align: right;\">\n",
       "      <th></th>\n",
       "      <th>id</th>\n",
       "      <th>song</th>\n",
       "      <th>artist</th>\n",
       "      <th>lyrics</th>\n",
       "      <th>cleaned_lyrics</th>\n",
       "      <th>genre</th>\n",
       "    </tr>\n",
       "  </thead>\n",
       "  <tbody>\n",
       "    <tr>\n",
       "      <th>0</th>\n",
       "      <td>94687</td>\n",
       "      <td>eternal-eclipse</td>\n",
       "      <td>edge-of-sanity</td>\n",
       "      <td>I hate humanity and I will not hesitate to kil...</td>\n",
       "      <td>I hate humanity I hesitate kill ! There 's hat...</td>\n",
       "      <td>Metal</td>\n",
       "    </tr>\n",
       "    <tr>\n",
       "      <th>1</th>\n",
       "      <td>122833</td>\n",
       "      <td>walk-me-out-in-the-morning-dew</td>\n",
       "      <td>grateful-dead</td>\n",
       "      <td>Walk me out in the mornin' dew my honey\\nWalk ...</td>\n",
       "      <td>Walk mornin ' dew honey Walk mornin ' dew toda...</td>\n",
       "      <td>Rock</td>\n",
       "    </tr>\n",
       "    <tr>\n",
       "      <th>2</th>\n",
       "      <td>37976</td>\n",
       "      <td>helping-you-hate-me</td>\n",
       "      <td>bluebottle-kiss</td>\n",
       "      <td>I know it's a clich\\nWhen they say we were doo...</td>\n",
       "      <td>I know 's clich When say doomed could start We...</td>\n",
       "      <td>Rock</td>\n",
       "    </tr>\n",
       "    <tr>\n",
       "      <th>3</th>\n",
       "      <td>38325</td>\n",
       "      <td>trailerpark</td>\n",
       "      <td>blur</td>\n",
       "      <td>Fist out\\nFist out for the five\\nFist out\\nI'm...</td>\n",
       "      <td>Fist Fist five Fist I 'm country boy I got sou...</td>\n",
       "      <td>Rock</td>\n",
       "    </tr>\n",
       "    <tr>\n",
       "      <th>4</th>\n",
       "      <td>35331</td>\n",
       "      <td>when-i-see-his-face</td>\n",
       "      <td>blake-babies</td>\n",
       "      <td>It could be any day now\\nIt could be any day\\n...</td>\n",
       "      <td>It could day It could day It could day Nothing...</td>\n",
       "      <td>Rock</td>\n",
       "    </tr>\n",
       "  </tbody>\n",
       "</table>\n",
       "</div>"
      ],
      "text/plain": [
       "       id                            song           artist  \\\n",
       "0   94687                 eternal-eclipse   edge-of-sanity   \n",
       "1  122833  walk-me-out-in-the-morning-dew    grateful-dead   \n",
       "2   37976             helping-you-hate-me  bluebottle-kiss   \n",
       "3   38325                     trailerpark             blur   \n",
       "4   35331             when-i-see-his-face     blake-babies   \n",
       "\n",
       "                                              lyrics  \\\n",
       "0  I hate humanity and I will not hesitate to kil...   \n",
       "1  Walk me out in the mornin' dew my honey\\nWalk ...   \n",
       "2  I know it's a clich\\nWhen they say we were doo...   \n",
       "3  Fist out\\nFist out for the five\\nFist out\\nI'm...   \n",
       "4  It could be any day now\\nIt could be any day\\n...   \n",
       "\n",
       "                                      cleaned_lyrics  genre  \n",
       "0  I hate humanity I hesitate kill ! There 's hat...  Metal  \n",
       "1  Walk mornin ' dew honey Walk mornin ' dew toda...   Rock  \n",
       "2  I know 's clich When say doomed could start We...   Rock  \n",
       "3  Fist Fist five Fist I 'm country boy I got sou...   Rock  \n",
       "4  It could day It could day It could day Nothing...   Rock  "
      ]
     },
     "execution_count": 5,
     "metadata": {},
     "output_type": "execute_result"
    }
   ],
   "source": [
    "df.head()"
   ]
  },
  {
   "cell_type": "code",
   "execution_count": 6,
   "metadata": {},
   "outputs": [],
   "source": [
    "df.drop('id',inplace=True,axis = 1)"
   ]
  },
  {
   "cell_type": "code",
   "execution_count": 7,
   "metadata": {},
   "outputs": [
    {
     "data": {
      "text/html": [
       "<div>\n",
       "<style scoped>\n",
       "    .dataframe tbody tr th:only-of-type {\n",
       "        vertical-align: middle;\n",
       "    }\n",
       "\n",
       "    .dataframe tbody tr th {\n",
       "        vertical-align: top;\n",
       "    }\n",
       "\n",
       "    .dataframe thead th {\n",
       "        text-align: right;\n",
       "    }\n",
       "</style>\n",
       "<table border=\"1\" class=\"dataframe\">\n",
       "  <thead>\n",
       "    <tr style=\"text-align: right;\">\n",
       "      <th></th>\n",
       "      <th>song</th>\n",
       "      <th>artist</th>\n",
       "      <th>lyrics</th>\n",
       "      <th>cleaned_lyrics</th>\n",
       "      <th>genre</th>\n",
       "    </tr>\n",
       "  </thead>\n",
       "  <tbody>\n",
       "    <tr>\n",
       "      <th>0</th>\n",
       "      <td>eternal-eclipse</td>\n",
       "      <td>edge-of-sanity</td>\n",
       "      <td>I hate humanity and I will not hesitate to kil...</td>\n",
       "      <td>I hate humanity I hesitate kill ! There 's hat...</td>\n",
       "      <td>Metal</td>\n",
       "    </tr>\n",
       "    <tr>\n",
       "      <th>1</th>\n",
       "      <td>walk-me-out-in-the-morning-dew</td>\n",
       "      <td>grateful-dead</td>\n",
       "      <td>Walk me out in the mornin' dew my honey\\nWalk ...</td>\n",
       "      <td>Walk mornin ' dew honey Walk mornin ' dew toda...</td>\n",
       "      <td>Rock</td>\n",
       "    </tr>\n",
       "    <tr>\n",
       "      <th>2</th>\n",
       "      <td>helping-you-hate-me</td>\n",
       "      <td>bluebottle-kiss</td>\n",
       "      <td>I know it's a clich\\nWhen they say we were doo...</td>\n",
       "      <td>I know 's clich When say doomed could start We...</td>\n",
       "      <td>Rock</td>\n",
       "    </tr>\n",
       "    <tr>\n",
       "      <th>3</th>\n",
       "      <td>trailerpark</td>\n",
       "      <td>blur</td>\n",
       "      <td>Fist out\\nFist out for the five\\nFist out\\nI'm...</td>\n",
       "      <td>Fist Fist five Fist I 'm country boy I got sou...</td>\n",
       "      <td>Rock</td>\n",
       "    </tr>\n",
       "    <tr>\n",
       "      <th>4</th>\n",
       "      <td>when-i-see-his-face</td>\n",
       "      <td>blake-babies</td>\n",
       "      <td>It could be any day now\\nIt could be any day\\n...</td>\n",
       "      <td>It could day It could day It could day Nothing...</td>\n",
       "      <td>Rock</td>\n",
       "    </tr>\n",
       "  </tbody>\n",
       "</table>\n",
       "</div>"
      ],
      "text/plain": [
       "                             song           artist  \\\n",
       "0                 eternal-eclipse   edge-of-sanity   \n",
       "1  walk-me-out-in-the-morning-dew    grateful-dead   \n",
       "2             helping-you-hate-me  bluebottle-kiss   \n",
       "3                     trailerpark             blur   \n",
       "4             when-i-see-his-face     blake-babies   \n",
       "\n",
       "                                              lyrics  \\\n",
       "0  I hate humanity and I will not hesitate to kil...   \n",
       "1  Walk me out in the mornin' dew my honey\\nWalk ...   \n",
       "2  I know it's a clich\\nWhen they say we were doo...   \n",
       "3  Fist out\\nFist out for the five\\nFist out\\nI'm...   \n",
       "4  It could be any day now\\nIt could be any day\\n...   \n",
       "\n",
       "                                      cleaned_lyrics  genre  \n",
       "0  I hate humanity I hesitate kill ! There 's hat...  Metal  \n",
       "1  Walk mornin ' dew honey Walk mornin ' dew toda...   Rock  \n",
       "2  I know 's clich When say doomed could start We...   Rock  \n",
       "3  Fist Fist five Fist I 'm country boy I got sou...   Rock  \n",
       "4  It could day It could day It could day Nothing...   Rock  "
      ]
     },
     "execution_count": 7,
     "metadata": {},
     "output_type": "execute_result"
    }
   ],
   "source": [
    "df.head()"
   ]
  },
  {
   "cell_type": "code",
   "execution_count": 8,
   "metadata": {},
   "outputs": [],
   "source": [
    "df.genre = df.genre.astype(str)"
   ]
  },
  {
   "cell_type": "code",
   "execution_count": 9,
   "metadata": {},
   "outputs": [],
   "source": [
    "df.genre = df.genre.apply(lambda x: ' '.join([re.sub('Hip-Hop','HipHop',word) for word in x.split()]))"
   ]
  },
  {
   "cell_type": "code",
   "execution_count": 10,
   "metadata": {},
   "outputs": [],
   "source": [
    "df.genre = df.genre.apply(lambda x: ' '.join([re.sub('R&B','RythBlues',word) for word in x.split()]))"
   ]
  },
  {
   "cell_type": "code",
   "execution_count": 11,
   "metadata": {},
   "outputs": [
    {
     "data": {
      "text/plain": [
       "Rock          51846\n",
       "Pop           14955\n",
       "Metal          9031\n",
       "HipHop         7094\n",
       "Country        5988\n",
       "Jazz           3340\n",
       "Electronic     2272\n",
       "RythBlues      1765\n",
       "Indie          1075\n",
       "Folk            425\n",
       "nan              65\n",
       "Name: genre, dtype: int64"
      ]
     },
     "execution_count": 11,
     "metadata": {},
     "output_type": "execute_result"
    }
   ],
   "source": [
    "df.genre.value_counts()"
   ]
  },
  {
   "cell_type": "code",
   "execution_count": 12,
   "metadata": {},
   "outputs": [
    {
     "data": {
      "text/plain": [
       "(97856, 5)"
      ]
     },
     "execution_count": 12,
     "metadata": {},
     "output_type": "execute_result"
    }
   ],
   "source": [
    "df.shape"
   ]
  },
  {
   "cell_type": "code",
   "execution_count": 62,
   "metadata": {},
   "outputs": [
    {
     "data": {
      "text/plain": [
       "Folk          51846\n",
       "Indie         51846\n",
       "Country       51846\n",
       "Rock          51846\n",
       "Metal         51846\n",
       "Jazz          51846\n",
       "Pop           51846\n",
       "RythBlues     51846\n",
       "Electronic    51846\n",
       "HipHop        51846\n",
       "Name: genre, dtype: int64"
      ]
     },
     "execution_count": 62,
     "metadata": {},
     "output_type": "execute_result"
    }
   ],
   "source": [
    "# Separate majority and minority classes\n",
    "df_Rock = df[df.genre=='Rock']\n",
    "df_Pop = df[df.genre=='Pop']\n",
    "df_Metal = df[df.genre=='Metal']\n",
    "df_HipHop = df[df.genre =='HipHop']\n",
    "df_Country = df[df.genre=='Country']\n",
    "df_Jazz = df[df.genre=='Jazz']\n",
    "df_Electronic = df[df.genre=='Electronic']\n",
    "df_RythBlues = df[df.genre=='RythBlues']\n",
    "df_Indie = df[df.genre=='Indie']\n",
    "df_Folk = df[df.genre=='Folk']\n",
    " \n",
    "# Upsample minority class\n",
    "# df_Rock_sampled = resample(df_Rock, \n",
    "#                                  replace=True,     # sample with replacement\n",
    "#                                  n_samples=7094,    # to match majority class\n",
    "#                                  random_state=123) # reproducible results\n",
    "\n",
    "df_Pop_sampled = resample(df_Pop, \n",
    "                                 replace=True,     # sample with replacement\n",
    "                                 n_samples=51846,    # to match majority class\n",
    "                                 random_state=123) # reproducible results\n",
    "\n",
    "df_Metal_sampled = resample(df_Metal, \n",
    "                                 replace=True,     # sample with replacement\n",
    "                                 n_samples=51846,    # to match majority class\n",
    "                                 random_state=123) # reproducible results\n",
    "\n",
    "df_HipHop_sampled = resample(df_HipHop, \n",
    "                                 replace=True,     # sample with replacement\n",
    "                                 n_samples=51846,    # to match majority class\n",
    "                                 random_state=123) # reproducible results\n",
    "\n",
    "df_Country_sampled = resample(df_Country, \n",
    "                                 replace=True,     # sample with replacement\n",
    "                                 n_samples=51846,    # to match majority class\n",
    "                                 random_state=123) # reproducible results\n",
    "\n",
    "df_Jazz_sampled = resample(df_Jazz, \n",
    "                                 replace=True,     # sample with replacement\n",
    "                                 n_samples=51846,    # to match majority class\n",
    "                                 random_state=123) # reproducible results\n",
    "\n",
    "df_Electronic_sampled = resample(df_Electronic, \n",
    "                                 replace=True,     # sample with replacement\n",
    "                                 n_samples=51846,    # to match majority class\n",
    "                                 random_state=123) # reproducible results\n",
    "\n",
    "df_RythBlues_sampled = resample(df_RythBlues, \n",
    "                                 replace=True,     # sample with replacement\n",
    "                                 n_samples=51846,    # to match majority class\n",
    "                                 random_state=123) # reproducible results\n",
    "\n",
    "df_Indie_sampled = resample(df_Indie, \n",
    "                                 replace=True,     # sample with replacement\n",
    "                                 n_samples=51846,    # to match majority class\n",
    "                                 random_state=123) # reproducible results\n",
    "\n",
    "df_Folk_sampled = resample(df_Folk, \n",
    "                                 replace=True,     # sample with replacement\n",
    "                                 n_samples=51846,    # to match majority class\n",
    "                                 random_state=123) # reproducible results\n",
    " \n",
    "# Combine majority class with upsampled minority class\n",
    "frame = pd.concat([df_Rock,df_Pop_sampled,df_Metal_sampled,df_HipHop_sampled,df_Country_sampled,df_Jazz_sampled,\n",
    "                         df_Electronic_sampled,df_RythBlues_sampled,df_Indie_sampled,df_Folk_sampled])\n",
    " \n",
    "# Display new class counts\n",
    "frame.genre.value_counts()"
   ]
  },
  {
   "cell_type": "code",
   "execution_count": 63,
   "metadata": {},
   "outputs": [
    {
     "data": {
      "text/html": [
       "<div>\n",
       "<style scoped>\n",
       "    .dataframe tbody tr th:only-of-type {\n",
       "        vertical-align: middle;\n",
       "    }\n",
       "\n",
       "    .dataframe tbody tr th {\n",
       "        vertical-align: top;\n",
       "    }\n",
       "\n",
       "    .dataframe thead th {\n",
       "        text-align: right;\n",
       "    }\n",
       "</style>\n",
       "<table border=\"1\" class=\"dataframe\">\n",
       "  <thead>\n",
       "    <tr style=\"text-align: right;\">\n",
       "      <th></th>\n",
       "      <th>song</th>\n",
       "      <th>artist</th>\n",
       "      <th>lyrics</th>\n",
       "      <th>cleaned_lyrics</th>\n",
       "      <th>genre</th>\n",
       "    </tr>\n",
       "  </thead>\n",
       "  <tbody>\n",
       "    <tr>\n",
       "      <th>1</th>\n",
       "      <td>walk-me-out-in-the-morning-dew</td>\n",
       "      <td>grateful-dead</td>\n",
       "      <td>Walk me out in the mornin' dew my honey\\nWalk ...</td>\n",
       "      <td>Walk mornin ' dew honey Walk mornin ' dew toda...</td>\n",
       "      <td>Rock</td>\n",
       "    </tr>\n",
       "    <tr>\n",
       "      <th>2</th>\n",
       "      <td>helping-you-hate-me</td>\n",
       "      <td>bluebottle-kiss</td>\n",
       "      <td>I know it's a clich\\nWhen they say we were doo...</td>\n",
       "      <td>I know 's clich When say doomed could start We...</td>\n",
       "      <td>Rock</td>\n",
       "    </tr>\n",
       "    <tr>\n",
       "      <th>3</th>\n",
       "      <td>trailerpark</td>\n",
       "      <td>blur</td>\n",
       "      <td>Fist out\\nFist out for the five\\nFist out\\nI'm...</td>\n",
       "      <td>Fist Fist five Fist I 'm country boy I got sou...</td>\n",
       "      <td>Rock</td>\n",
       "    </tr>\n",
       "    <tr>\n",
       "      <th>4</th>\n",
       "      <td>when-i-see-his-face</td>\n",
       "      <td>blake-babies</td>\n",
       "      <td>It could be any day now\\nIt could be any day\\n...</td>\n",
       "      <td>It could day It could day It could day Nothing...</td>\n",
       "      <td>Rock</td>\n",
       "    </tr>\n",
       "    <tr>\n",
       "      <th>6</th>\n",
       "      <td>call-your-name</td>\n",
       "      <td>beatles</td>\n",
       "      <td>I call your name but you're not there\\nWas I t...</td>\n",
       "      <td>I call name 're Was I blame unfair Oh , I ca n...</td>\n",
       "      <td>Rock</td>\n",
       "    </tr>\n",
       "  </tbody>\n",
       "</table>\n",
       "</div>"
      ],
      "text/plain": [
       "                             song           artist  \\\n",
       "1  walk-me-out-in-the-morning-dew    grateful-dead   \n",
       "2             helping-you-hate-me  bluebottle-kiss   \n",
       "3                     trailerpark             blur   \n",
       "4             when-i-see-his-face     blake-babies   \n",
       "6                  call-your-name          beatles   \n",
       "\n",
       "                                              lyrics  \\\n",
       "1  Walk me out in the mornin' dew my honey\\nWalk ...   \n",
       "2  I know it's a clich\\nWhen they say we were doo...   \n",
       "3  Fist out\\nFist out for the five\\nFist out\\nI'm...   \n",
       "4  It could be any day now\\nIt could be any day\\n...   \n",
       "6  I call your name but you're not there\\nWas I t...   \n",
       "\n",
       "                                      cleaned_lyrics genre  \n",
       "1  Walk mornin ' dew honey Walk mornin ' dew toda...  Rock  \n",
       "2  I know 's clich When say doomed could start We...  Rock  \n",
       "3  Fist Fist five Fist I 'm country boy I got sou...  Rock  \n",
       "4  It could day It could day It could day Nothing...  Rock  \n",
       "6  I call name 're Was I blame unfair Oh , I ca n...  Rock  "
      ]
     },
     "execution_count": 63,
     "metadata": {},
     "output_type": "execute_result"
    }
   ],
   "source": [
    "frame.head()"
   ]
  },
  {
   "cell_type": "code",
   "execution_count": 64,
   "metadata": {},
   "outputs": [
    {
     "data": {
      "text/plain": [
       "10"
      ]
     },
     "execution_count": 64,
     "metadata": {},
     "output_type": "execute_result"
    }
   ],
   "source": [
    "len(frame.genre.unique())"
   ]
  },
  {
   "cell_type": "code",
   "execution_count": 65,
   "metadata": {},
   "outputs": [
    {
     "data": {
      "text/plain": [
       "(518460, 5)"
      ]
     },
     "execution_count": 65,
     "metadata": {},
     "output_type": "execute_result"
    }
   ],
   "source": [
    "frame.shape"
   ]
  },
  {
   "cell_type": "code",
   "execution_count": 66,
   "metadata": {},
   "outputs": [],
   "source": [
    "#Converting the columns into strings\n",
    "frame.song = frame.song.astype(str)\n",
    "frame.artist = frame.song.astype(str)\n",
    "frame.lyrics = frame.lyrics.astype(str)\n",
    "frame.cleaned_lyrics = frame.cleaned_lyrics.astype(str)"
   ]
  },
  {
   "cell_type": "code",
   "execution_count": 127,
   "metadata": {},
   "outputs": [
    {
     "data": {
      "text/html": [
       "<div>\n",
       "<style scoped>\n",
       "    .dataframe tbody tr th:only-of-type {\n",
       "        vertical-align: middle;\n",
       "    }\n",
       "\n",
       "    .dataframe tbody tr th {\n",
       "        vertical-align: top;\n",
       "    }\n",
       "\n",
       "    .dataframe thead th {\n",
       "        text-align: right;\n",
       "    }\n",
       "</style>\n",
       "<table border=\"1\" class=\"dataframe\">\n",
       "  <thead>\n",
       "    <tr style=\"text-align: right;\">\n",
       "      <th></th>\n",
       "      <th>song</th>\n",
       "      <th>artist</th>\n",
       "      <th>lyrics</th>\n",
       "      <th>cleaned_lyrics</th>\n",
       "      <th>genre</th>\n",
       "      <th>tokens</th>\n",
       "    </tr>\n",
       "  </thead>\n",
       "  <tbody>\n",
       "    <tr>\n",
       "      <th>1</th>\n",
       "      <td>walk-me-out-in-the-morning-dew</td>\n",
       "      <td>walk-me-out-in-the-morning-dew</td>\n",
       "      <td>Walk me out in the mornin' dew my honey\\nWalk ...</td>\n",
       "      <td>Walk mornin ' dew honey Walk mornin ' dew toda...</td>\n",
       "      <td>Rock</td>\n",
       "      <td>Walk mornin ' dew honey Walk mornin ' dew toda...</td>\n",
       "    </tr>\n",
       "    <tr>\n",
       "      <th>2</th>\n",
       "      <td>helping-you-hate-me</td>\n",
       "      <td>helping-you-hate-me</td>\n",
       "      <td>I know it's a clich\\nWhen they say we were doo...</td>\n",
       "      <td>I know 's clich When say doomed could start We...</td>\n",
       "      <td>Rock</td>\n",
       "      <td>I know 's clich When say doomed could start We...</td>\n",
       "    </tr>\n",
       "    <tr>\n",
       "      <th>3</th>\n",
       "      <td>trailerpark</td>\n",
       "      <td>trailerpark</td>\n",
       "      <td>Fist out\\nFist out for the five\\nFist out\\nI'm...</td>\n",
       "      <td>Fist Fist five Fist I 'm country boy I got sou...</td>\n",
       "      <td>Rock</td>\n",
       "      <td>Fist Fist five Fist I 'm country boy I got sou...</td>\n",
       "    </tr>\n",
       "    <tr>\n",
       "      <th>4</th>\n",
       "      <td>when-i-see-his-face</td>\n",
       "      <td>when-i-see-his-face</td>\n",
       "      <td>It could be any day now\\nIt could be any day\\n...</td>\n",
       "      <td>It could day It could day It could day Nothing...</td>\n",
       "      <td>Rock</td>\n",
       "      <td>It could day It could day It could day Nothing...</td>\n",
       "    </tr>\n",
       "    <tr>\n",
       "      <th>6</th>\n",
       "      <td>call-your-name</td>\n",
       "      <td>call-your-name</td>\n",
       "      <td>I call your name but you're not there\\nWas I t...</td>\n",
       "      <td>I call name 're Was I blame unfair Oh , I ca n...</td>\n",
       "      <td>Rock</td>\n",
       "      <td>I call name 're Was I blame unfair Oh , I ca n...</td>\n",
       "    </tr>\n",
       "  </tbody>\n",
       "</table>\n",
       "</div>"
      ],
      "text/plain": [
       "                             song                          artist  \\\n",
       "1  walk-me-out-in-the-morning-dew  walk-me-out-in-the-morning-dew   \n",
       "2             helping-you-hate-me             helping-you-hate-me   \n",
       "3                     trailerpark                     trailerpark   \n",
       "4             when-i-see-his-face             when-i-see-his-face   \n",
       "6                  call-your-name                  call-your-name   \n",
       "\n",
       "                                              lyrics  \\\n",
       "1  Walk me out in the mornin' dew my honey\\nWalk ...   \n",
       "2  I know it's a clich\\nWhen they say we were doo...   \n",
       "3  Fist out\\nFist out for the five\\nFist out\\nI'm...   \n",
       "4  It could be any day now\\nIt could be any day\\n...   \n",
       "6  I call your name but you're not there\\nWas I t...   \n",
       "\n",
       "                                      cleaned_lyrics genre  \\\n",
       "1  Walk mornin ' dew honey Walk mornin ' dew toda...  Rock   \n",
       "2  I know 's clich When say doomed could start We...  Rock   \n",
       "3  Fist Fist five Fist I 'm country boy I got sou...  Rock   \n",
       "4  It could day It could day It could day Nothing...  Rock   \n",
       "6  I call name 're Was I blame unfair Oh , I ca n...  Rock   \n",
       "\n",
       "                                              tokens  \n",
       "1  Walk mornin ' dew honey Walk mornin ' dew toda...  \n",
       "2  I know 's clich When say doomed could start We...  \n",
       "3  Fist Fist five Fist I 'm country boy I got sou...  \n",
       "4  It could day It could day It could day Nothing...  \n",
       "6  I call name 're Was I blame unfair Oh , I ca n...  "
      ]
     },
     "execution_count": 127,
     "metadata": {},
     "output_type": "execute_result"
    }
   ],
   "source": [
    "frame.head()"
   ]
  },
  {
   "cell_type": "code",
   "execution_count": null,
   "metadata": {},
   "outputs": [],
   "source": [
    "frame.to_excel('Data_TL.xlsx')"
   ]
  },
  {
   "cell_type": "code",
   "execution_count": 204,
   "metadata": {},
   "outputs": [],
   "source": [
    "#modeling\n",
    "#train test split\n",
    "#Bag of words vectorizer Unigrams\n",
    "X_train, X_test, y_train, y_test = train_test_split(frame['cleaned_lyrics'], frame['genre'], test_size = 0.2, random_state=0, shuffle = True, stratify=frame['genre'])\n",
    "# bow_vectorizer = CountVectorizer()\n",
    "# X_train_vect = bow_vectorizer.fit_transform(X_train)\n",
    "# X_test_vect = bow_vectorizer.fit_transform(X_train)"
   ]
  },
  {
   "cell_type": "code",
   "execution_count": 205,
   "metadata": {},
   "outputs": [],
   "source": [
    "#TF-IDF vectorizer Unigrams\n",
    "X1_train, X1_test, y1_train, y1_test = train_test_split(frame['cleaned_lyrics'], frame['genre'], test_size = 0.2, random_state=0, shuffle = True, stratify=frame['genre'])\n",
    "# tfidf_vectorizer = TfidfVectorizer()\n",
    "# X1_train_vect = tfidf_vectorizer.fit_transform(X1_train)"
   ]
  },
  {
   "cell_type": "code",
   "execution_count": 196,
   "metadata": {},
   "outputs": [
    {
     "name": "stdout",
     "output_type": "stream",
     "text": [
      "Predicted   Country  Electronic  Folk  HipHop  Indie  Jazz  Metal   Pop  Rock  \\\n",
      "Actual                                                                          \n",
      "Country        7441          78    43      44    182   585    175   951   403   \n",
      "Electronic      200        6761    40     195    252   135    841  1107   526   \n",
      "Folk            322          29  8500       0    168   176    158   405   342   \n",
      "HipHop           95          95     1    8382     12    35    141   979   387   \n",
      "Indie            94          37     0      10   9282    46     89   588    82   \n",
      "Jazz            517          56    65     117     60  7952     74   755   301   \n",
      "Metal            57         101     6     213    162    36   8414   336   979   \n",
      "Pop             630         264    51     361    359   660    447  5633  1311   \n",
      "Rock           1097         319    67     361    501   431   1264  1586  4197   \n",
      "RythBlues       453          44    37     109     61   514    217   568   353   \n",
      "\n",
      "Predicted   RythBlues  \n",
      "Actual                 \n",
      "Country           468  \n",
      "Electronic        312  \n",
      "Folk              269  \n",
      "HipHop            242  \n",
      "Indie             141  \n",
      "Jazz              473  \n",
      "Metal              65  \n",
      "Pop               653  \n",
      "Rock              546  \n",
      "RythBlues        8013  \n",
      "              precision    recall  f1-score   support\n",
      "\n",
      "     Country       0.68      0.72      0.70     10370\n",
      "  Electronic       0.87      0.65      0.74     10369\n",
      "        Folk       0.96      0.82      0.89     10369\n",
      "      HipHop       0.86      0.81      0.83     10369\n",
      "       Indie       0.84      0.90      0.87     10369\n",
      "        Jazz       0.75      0.77      0.76     10370\n",
      "       Metal       0.71      0.81      0.76     10369\n",
      "         Pop       0.44      0.54      0.48     10369\n",
      "        Rock       0.47      0.40      0.44     10369\n",
      "   RythBlues       0.72      0.77      0.74     10369\n",
      "\n",
      "    accuracy                           0.72    103692\n",
      "   macro avg       0.73      0.72      0.72    103692\n",
      "weighted avg       0.73      0.72      0.72    103692\n",
      "\n",
      "Accuracy of the model is 71.9197237974 %\n",
      "0.7210986782864081\n"
     ]
    }
   ],
   "source": [
    "#Naive Bayes with Bag of words\n",
    "nb_bow = Pipeline([('bow_vectorizer', CountVectorizer(lowercase = False)), ('nb', MultinomialNB())])\n",
    "nb_bow.fit(X_train, y_train)\n",
    "y_pred = nb_bow.predict(X_test)\n",
    "print(pd.crosstab(y_test,y_pred,rownames=['Actual'],colnames=['Predicted']))\n",
    "print(classification_report(y_test, y_pred))\n",
    "print('Accuracy of the model is',accuracy_score(y_test, y_pred)*100,'%')\n",
    "print(f1_score(y_test, y_pred,average = 'macro'))"
   ]
  },
  {
   "cell_type": "code",
   "execution_count": 209,
   "metadata": {},
   "outputs": [
    {
     "data": {
      "image/png": "[encoded data removed]",
      "text/plain": [
       "<Figure size 842.4x595.44 with 1 Axes>"
      ]
     },
     "metadata": {},
     "output_type": "display_data"
    }
   ],
   "source": [
    "#Confusion matrix - NB-Bow\n",
    "genre = ['Country','Electronic','Folk', 'HipHop','Indie','Jazz','Metal','Pop','Rock',  \n",
    "       'RythBlues']\n",
    "mat = confusion_matrix(y_test, y_pred)\n",
    "sb.heatmap(\n",
    "    mat.T, square=True, annot=True, fmt='d', cbar=False,\n",
    "    xticklabels=genre, \n",
    "    yticklabels=genre\n",
    ")\n",
    "plt.ylabel('predicted label')\n",
    "plt.xlabel('actual label');"
   ]
  },
  {
   "cell_type": "code",
   "execution_count": 200,
   "metadata": {},
   "outputs": [
    {
     "name": "stdout",
     "output_type": "stream",
     "text": [
      "Predicted   Country  Electronic  Folk  HipHop  Indie  Jazz  Metal   Pop  Rock  \\\n",
      "Actual                                                                          \n",
      "Country        7916          41    92     117    142   422    118   825   168   \n",
      "Electronic      260        7082    30     417    226    83    397  1201   160   \n",
      "Folk            141           0  9581       0     30    77     20   293     0   \n",
      "HipHop          110          69    13    8830     14    20    101   644   206   \n",
      "Indie            88           7    18      30   9533    19     17   439     6   \n",
      "Jazz            665          47   120     200     40  7708     46   699   169   \n",
      "Metal            86         101    33     333    234    34   8245   416   751   \n",
      "Pop             686         220    87     705    418   608    328  5604   697   \n",
      "Rock           1390         370   161     624    666   376   1137  1855  2995   \n",
      "RythBlues       370          11    37     167     86   365    106   348    85   \n",
      "\n",
      "Predicted   RythBlues  \n",
      "Actual                 \n",
      "Country           529  \n",
      "Electronic        513  \n",
      "Folk              227  \n",
      "HipHop            362  \n",
      "Indie             212  \n",
      "Jazz              676  \n",
      "Metal             136  \n",
      "Pop              1016  \n",
      "Rock              795  \n",
      "RythBlues        8794  \n",
      "              precision    recall  f1-score   support\n",
      "\n",
      "     Country       0.68      0.76      0.72     10370\n",
      "  Electronic       0.89      0.68      0.77     10369\n",
      "        Folk       0.94      0.92      0.93     10369\n",
      "      HipHop       0.77      0.85      0.81     10369\n",
      "       Indie       0.84      0.92      0.88     10369\n",
      "        Jazz       0.79      0.74      0.77     10370\n",
      "       Metal       0.78      0.80      0.79     10369\n",
      "         Pop       0.45      0.54      0.49     10369\n",
      "        Rock       0.57      0.29      0.38     10369\n",
      "   RythBlues       0.66      0.85      0.74     10369\n",
      "\n",
      "    accuracy                           0.74    103692\n",
      "   macro avg       0.74      0.74      0.73    103692\n",
      "weighted avg       0.74      0.74      0.73    103692\n",
      "\n",
      "Accuracy of the model is 73.57173166685953 %\n",
      "0.7289080707349787\n"
     ]
    }
   ],
   "source": [
    "#Naive Bayes with TF-IDF\n",
    "nb_tfidf = Pipeline([('tfidf_vectorizer', TfidfVectorizer(lowercase = False)), ('nb1', MultinomialNB())])\n",
    "nb_tfidf.fit(X1_train, y1_train)\n",
    "y1_pred = nb_tfidf.predict(X1_tests)\n",
    "print(pd.crosstab(y1_test,y1_pred,rownames=['Actual'],colnames=['Predicted']))\n",
    "print(classification_report(y1_test, y1_pred))\n",
    "print('Accuracy of the model is',accuracy_score(y1_test, y1_pred)*100,'%')\n",
    "print(f1_score(y1_test, y1_pred,average = 'macro'))"
   ]
  },
  {
   "cell_type": "code",
   "execution_count": 210,
   "metadata": {},
   "outputs": [
    {
     "data": {
      "image/png": "[encoded data removed]",
      "text/plain": [
       "<Figure size 842.4x595.44 with 1 Axes>"
      ]
     },
     "metadata": {},
     "output_type": "display_data"
    }
   ],
   "source": [
    "#Confusion matrix - NB-tfidf\n",
    "genre = ['Country','Electronic','Folk', 'HipHop','Indie','Jazz','Metal','Pop','Rock',  \n",
    "       'RythBlues']\n",
    "mat = confusion_matrix(y1_test, y1_pred)\n",
    "sb.heatmap(\n",
    "    mat.T, square=True, annot=True, fmt='d', cbar=False,\n",
    "    xticklabels=genre, \n",
    "    yticklabels=genre\n",
    ")\n",
    "plt.ylabel('predicted label')\n",
    "plt.xlabel('actual label');"
   ]
  },
  {
   "cell_type": "code",
   "execution_count": 207,
   "metadata": {
    "scrolled": false
   },
   "outputs": [
    {
     "name": "stdout",
     "output_type": "stream",
     "text": [
      "Predicted   Country  Electronic   Folk  HipHop  Indie  Jazz  Metal   Pop  \\\n",
      "Actual                                                                     \n",
      "Country        7531         212     57      36    171   698     75   560   \n",
      "Electronic       54        9295      6      25    110   124    123   253   \n",
      "Folk              0           0  10369       0      0     0      0     0   \n",
      "HipHop           60         108      4    9421     22    49     77   319   \n",
      "Indie            17          31      0       0  10183    16      0    17   \n",
      "Jazz            261         100     34      18     59  9045     26   296   \n",
      "Metal            91         286     19      43    116    61   8742   217   \n",
      "Pop             487         620     55     356    375   716    332  5620   \n",
      "Rock            960         853    154     219    628   662   1146  1284   \n",
      "RythBlues        59          60      9       4     18   340     13   177   \n",
      "\n",
      "Predicted   Rock  RythBlues  \n",
      "Actual                       \n",
      "Country      713        317  \n",
      "Electronic   306         73  \n",
      "Folk           0          0  \n",
      "HipHop       214         95  \n",
      "Indie         93         12  \n",
      "Jazz         293        238  \n",
      "Metal        717         77  \n",
      "Pop         1274        534  \n",
      "Rock        3922        541  \n",
      "RythBlues    194       9495  \n",
      "              precision    recall  f1-score   support\n",
      "\n",
      "     Country       0.79      0.73      0.76     10370\n",
      "  Electronic       0.80      0.90      0.85     10369\n",
      "        Folk       0.97      1.00      0.98     10369\n",
      "      HipHop       0.93      0.91      0.92     10369\n",
      "       Indie       0.87      0.98      0.92     10369\n",
      "        Jazz       0.77      0.87      0.82     10370\n",
      "       Metal       0.83      0.84      0.84     10369\n",
      "         Pop       0.64      0.54      0.59     10369\n",
      "        Rock       0.51      0.38      0.43     10369\n",
      "   RythBlues       0.83      0.92      0.87     10369\n",
      "\n",
      "    accuracy                           0.81    103692\n",
      "   macro avg       0.80      0.81      0.80    103692\n",
      "weighted avg       0.80      0.81      0.80    103692\n",
      "\n",
      "Accuracy of the model is 80.64556571384485 %\n",
      "0.7982239002112507\n"
     ]
    }
   ],
   "source": [
    "#Logistic Regression with Bag of words\n",
    "lr_bow = Pipeline([('bow_vectorizer', CountVectorizer(lowercase = False)), ('lr', LogisticRegression())])\n",
    "lr_bow.fit(X_train, y_train)\n",
    "y_pred_lr_bow = lr_bow.predict(X_test)\n",
    "print(pd.crosstab(y_test,y_pred_lr_bow,rownames=['Actual'],colnames=['Predicted']))\n",
    "print(classification_report(y_test, y_pred_lr_bow))\n",
    "print('Accuracy of the model is',accuracy_score(y_test, y_pred_lr_bow)*100,'%')\n",
    "print(f1_score(y_test, y_pred_lr_bow,average = 'macro'))"
   ]
  },
  {
   "cell_type": "code",
   "execution_count": 211,
   "metadata": {},
   "outputs": [
    {
     "data": {
      "image/png": "[encoded data removed]",
      "text/plain": [
       "<Figure size 842.4x595.44 with 1 Axes>"
      ]
     },
     "metadata": {},
     "output_type": "display_data"
    }
   ],
   "source": [
    "#Confusion matrix - NB-tfidf\n",
    "genre = ['Country','Electronic','Folk', 'HipHop','Indie','Jazz','Metal','Pop','Rock',  \n",
    "       'RythBlues']\n",
    "mat = confusion_matrix(y_test, y_pred_lr_bow)\n",
    "sb.heatmap(\n",
    "    mat.T, square=True, annot=True, fmt='d', cbar=False,\n",
    "    xticklabels=genre, \n",
    "    yticklabels=genre\n",
    ")\n",
    "plt.ylabel('predicted label')\n",
    "plt.xlabel('actual label');"
   ]
  },
  {
   "cell_type": "code",
   "execution_count": 212,
   "metadata": {},
   "outputs": [
    {
     "name": "stdout",
     "output_type": "stream",
     "text": [
      "Predicted   Country  Electronic   Folk  HipHop  Indie  Jazz  Metal   Pop  \\\n",
      "Actual                                                                     \n",
      "Country        7633         205    118      66    166   616     75   620   \n",
      "Electronic      131        9025     24      56     84    94    136   515   \n",
      "Folk              0           0  10369       0      0     0      0     0   \n",
      "HipHop           90         176     18    9058     29    53    128   445   \n",
      "Indie             6          74      0       0  10046    12     16   104   \n",
      "Jazz            387         116     51      80     62  8570     32   446   \n",
      "Metal            88         295     29      75    184    71   8671   271   \n",
      "Pop             636         769    102     440    474   701    326  5215   \n",
      "Rock           1053         954    166     186    688   625   1193  1574   \n",
      "RythBlues       109          69     55      37     50   247      3   327   \n",
      "\n",
      "Predicted   Rock  RythBlues  \n",
      "Actual                       \n",
      "Country      510        361  \n",
      "Electronic   198        106  \n",
      "Folk           0          0  \n",
      "HipHop       172        200  \n",
      "Indie         62         49  \n",
      "Jazz         258        368  \n",
      "Metal        595         90  \n",
      "Pop          974        732  \n",
      "Rock        3405        525  \n",
      "RythBlues    122       9350  \n",
      "              precision    recall  f1-score   support\n",
      "\n",
      "     Country       0.75      0.74      0.74     10370\n",
      "  Electronic       0.77      0.87      0.82     10369\n",
      "        Folk       0.95      1.00      0.97     10369\n",
      "      HipHop       0.91      0.87      0.89     10369\n",
      "       Indie       0.85      0.97      0.91     10369\n",
      "        Jazz       0.78      0.83      0.80     10370\n",
      "       Metal       0.82      0.84      0.83     10369\n",
      "         Pop       0.55      0.50      0.52     10369\n",
      "        Rock       0.54      0.33      0.41     10369\n",
      "   RythBlues       0.79      0.90      0.84     10369\n",
      "\n",
      "    accuracy                           0.78    103692\n",
      "   macro avg       0.77      0.78      0.77    103692\n",
      "weighted avg       0.77      0.78      0.77    103692\n",
      "\n",
      "Accuracy of the model is 78.44578173822474 %\n",
      "0.7740813576201504\n"
     ]
    }
   ],
   "source": [
    "#Logistic Regression with Tfidf\n",
    "lr_tfidf = Pipeline([('tfidf', TfidfVectorizer(lowercase = False)), ('lr', LogisticRegression())])\n",
    "lr_tfidf.fit(X_train, y_train)\n",
    "y_pred_tfidf = lr_tfidf.predict(X_test)\n",
    "print(pd.crosstab(y_test,y_pred_tfidf,rownames=['Actual'],colnames=['Predicted']))\n",
    "print(classification_report(y_test, y_pred_tfidf))\n",
    "print('Accuracy of the model is',accuracy_score(y_test, y_pred_tfidf)*100,'%')\n",
    "print(f1_score(y_test, y_pred_tfidf,average = 'macro'))"
   ]
  },
  {
   "cell_type": "code",
   "execution_count": 213,
   "metadata": {},
   "outputs": [
    {
     "data": {
      "image/png": "[encoded data removed]",
      "text/plain": [
       "<Figure size 842.4x595.44 with 1 Axes>"
      ]
     },
     "metadata": {},
     "output_type": "display_data"
    }
   ],
   "source": [
    "#Confusion matrix - NB-tfidf\n",
    "genre = ['Country','Electronic','Folk', 'HipHop','Indie','Jazz','Metal','Pop','Rock',  \n",
    "       'RythBlues']\n",
    "mat = confusion_matrix(y_test, y_pred_tfidf)\n",
    "sb.heatmap(\n",
    "    mat.T, square=True, annot=True, fmt='d', cbar=False,\n",
    "    xticklabels=genre, \n",
    "    yticklabels=genre\n",
    ")\n",
    "plt.ylabel('predicted label')\n",
    "plt.xlabel('actual label');"
   ]
  },
  {
   "cell_type": "code",
   "execution_count": 81,
   "metadata": {},
   "outputs": [
    {
     "data": {
      "text/plain": [
       "(518460, 5)"
      ]
     },
     "execution_count": 81,
     "metadata": {},
     "output_type": "execute_result"
    }
   ],
   "source": [
    "frame.shape"
   ]
  },
  {
   "cell_type": "code",
   "execution_count": 203,
   "metadata": {},
   "outputs": [
    {
     "name": "stdout",
     "output_type": "stream",
     "text": [
      "Predicted   Country  Electronic   Folk  HipHop  Indie  Jazz  Metal   Pop  \\\n",
      "Actual                                                                     \n",
      "Country        7456         223     70      19    218   766     90   466   \n",
      "Electronic      158        8484     44      20    198   157    312   312   \n",
      "Folk             20           0  10455       0      0     0      0     0   \n",
      "HipHop          103         148     20    9315     33    44    109   294   \n",
      "Indie            81          74      0       0   9853    22     21    64   \n",
      "Jazz            544         134     54      51    106  8613     30   274   \n",
      "Metal           112         390     34      56    193    68   8298   201   \n",
      "Pop             790         872    109     389    437   824    341  4469   \n",
      "Rock           1111         953    175     193    707   625   1173  1113   \n",
      "RythBlues       234         105     22       7     51   478     31   320   \n",
      "\n",
      "Predicted   Rock  RythBlues  \n",
      "Actual                       \n",
      "Country      797        272  \n",
      "Electronic   452         97  \n",
      "Folk           0          0  \n",
      "HipHop       263        129  \n",
      "Indie        244         40  \n",
      "Jazz         378        255  \n",
      "Metal        814        103  \n",
      "Pop         1466        668  \n",
      "Rock        3746        610  \n",
      "RythBlues    335       8687  \n",
      "              precision    recall  f1-score   support\n",
      "\n",
      "     Country       0.70      0.72      0.71     10377\n",
      "  Electronic       0.75      0.83      0.78     10234\n",
      "        Folk       0.95      1.00      0.97     10475\n",
      "      HipHop       0.93      0.89      0.91     10458\n",
      "       Indie       0.84      0.95      0.89     10399\n",
      "        Jazz       0.74      0.83      0.78     10439\n",
      "       Metal       0.80      0.81      0.80     10269\n",
      "         Pop       0.59      0.43      0.50     10365\n",
      "        Rock       0.44      0.36      0.40     10406\n",
      "   RythBlues       0.80      0.85      0.82     10270\n",
      "\n",
      "    accuracy                           0.77    103692\n",
      "   macro avg       0.75      0.77      0.76    103692\n",
      "weighted avg       0.75      0.77      0.76    103692\n",
      "\n",
      "Accuracy of the model is 77.0%\n"
     ]
    }
   ],
   "source": [
    "x = frame[\"cleaned_lyrics\"]\n",
    "y = frame[\"genre\"]\n",
    "\n",
    "X_train, X_test, y_train, y_test = train_test_split(x, y, test_size=0.2, random_state=42)\n",
    "\n",
    "cv = CountVectorizer(lowercase = 'False')\n",
    "x_train_cv = cv.fit_transform(X_train)\n",
    "x_test_cv = cv.transform(X_test)\n",
    "\n",
    "lr_bow = LogisticRegression()\n",
    "lr_bow.fit(x_train_cv, y_train)\n",
    "pred = lr_bow.predict(x_test_cv)\n",
    "print(pd.crosstab(y_test,pred,rownames=['Actual'],colnames=['Predicted']))\n",
    "print(classification_report(y_test, pred))\n",
    "print('Accuracy of the model is {}%'.format(round(accuracy_score(y_test,pred)*100),2))"
   ]
  },
  {
   "cell_type": "code",
   "execution_count": 168,
   "metadata": {},
   "outputs": [
    {
     "data": {
      "text/plain": [
       "array(['Rock', 'Pop', 'Metal', 'HipHop', 'Country', 'Jazz', 'Electronic',\n",
       "       'RythBlues', 'Indie', 'Folk'], dtype=object)"
      ]
     },
     "execution_count": 168,
     "metadata": {},
     "output_type": "execute_result"
    }
   ],
   "source": [
    "frame.genre.unique()"
   ]
  },
  {
   "cell_type": "code",
   "execution_count": 175,
   "metadata": {},
   "outputs": [
    {
     "data": {
      "text/plain": [
       "numpy.ndarray"
      ]
     },
     "execution_count": 175,
     "metadata": {},
     "output_type": "execute_result"
    }
   ],
   "source": [
    "type(y_test)"
   ]
  },
  {
   "cell_type": "code",
   "execution_count": 193,
   "metadata": {},
   "outputs": [
    {
     "data": {
      "image/png": "[encoded data removed]",
      "text/plain": [
       "<Figure size 842.4x595.44 with 1 Axes>"
      ]
     },
     "metadata": {},
     "output_type": "display_data"
    }
   ],
   "source": [
    "mat = confusion_matrix(y_test, pred)\n",
    "sb.heatmap(\n",
    "    mat.T, square=True, annot=True, fmt='d', cbar=False,\n",
    "#     xticklabels=genres, \n",
    "#     yticklabels=genres\n",
    ")\n",
    "plt.xlabel('true label')\n",
    "plt.ylabel('predicted label');"
   ]
  },
  {
   "cell_type": "code",
   "execution_count": 215,
   "metadata": {},
   "outputs": [
    {
     "data": {
      "text/plain": [
       "1.0"
      ]
     },
     "execution_count": 215,
     "metadata": {},
     "output_type": "execute_result"
    }
   ],
   "source": [
    "def jaccard_similarity(list1, list2):\n",
    "    s1 = set(list1)\n",
    "    s2 = set(list2)\n",
    "    return len(s1.intersection(s2)) / len(s1.union(s2))\n",
    "list1 = ['dog', 'cat']\n",
    "list2 = ['dog', 'cat']\n",
    "jaccard_similarity(list1, list2)"
   ]
  },
  {
   "cell_type": "code",
   "execution_count": 217,
   "metadata": {},
   "outputs": [],
   "source": [
    "frame_rec = frame[['cleaned_lyrics','genre']]"
   ]
  },
  {
   "cell_type": "code",
   "execution_count": 218,
   "metadata": {},
   "outputs": [
    {
     "data": {
      "text/html": [
       "<div>\n",
       "<style scoped>\n",
       "    .dataframe tbody tr th:only-of-type {\n",
       "        vertical-align: middle;\n",
       "    }\n",
       "\n",
       "    .dataframe tbody tr th {\n",
       "        vertical-align: top;\n",
       "    }\n",
       "\n",
       "    .dataframe thead th {\n",
       "        text-align: right;\n",
       "    }\n",
       "</style>\n",
       "<table border=\"1\" class=\"dataframe\">\n",
       "  <thead>\n",
       "    <tr style=\"text-align: right;\">\n",
       "      <th></th>\n",
       "      <th>cleaned_lyrics</th>\n",
       "      <th>genre</th>\n",
       "    </tr>\n",
       "  </thead>\n",
       "  <tbody>\n",
       "    <tr>\n",
       "      <th>1</th>\n",
       "      <td>Walk mornin ' dew honey Walk mornin ' dew toda...</td>\n",
       "      <td>Rock</td>\n",
       "    </tr>\n",
       "    <tr>\n",
       "      <th>2</th>\n",
       "      <td>I know 's clich When say doomed could start We...</td>\n",
       "      <td>Rock</td>\n",
       "    </tr>\n",
       "    <tr>\n",
       "      <th>3</th>\n",
       "      <td>Fist Fist five Fist I 'm country boy I got sou...</td>\n",
       "      <td>Rock</td>\n",
       "    </tr>\n",
       "    <tr>\n",
       "      <th>4</th>\n",
       "      <td>It could day It could day It could day Nothing...</td>\n",
       "      <td>Rock</td>\n",
       "    </tr>\n",
       "    <tr>\n",
       "      <th>6</th>\n",
       "      <td>I call name 're Was I blame unfair Oh , I ca n...</td>\n",
       "      <td>Rock</td>\n",
       "    </tr>\n",
       "  </tbody>\n",
       "</table>\n",
       "</div>"
      ],
      "text/plain": [
       "                                      cleaned_lyrics genre\n",
       "1  Walk mornin ' dew honey Walk mornin ' dew toda...  Rock\n",
       "2  I know 's clich When say doomed could start We...  Rock\n",
       "3  Fist Fist five Fist I 'm country boy I got sou...  Rock\n",
       "4  It could day It could day It could day Nothing...  Rock\n",
       "6  I call name 're Was I blame unfair Oh , I ca n...  Rock"
      ]
     },
     "execution_count": 218,
     "metadata": {},
     "output_type": "execute_result"
    }
   ],
   "source": [
    "frame_rec.head()"
   ]
  },
  {
   "cell_type": "code",
   "execution_count": 246,
   "metadata": {},
   "outputs": [],
   "source": [
    "dummy = pd.read_excel('dummy.xlsx')"
   ]
  },
  {
   "cell_type": "code",
   "execution_count": 247,
   "metadata": {},
   "outputs": [
    {
     "data": {
      "text/html": [
       "<div>\n",
       "<style scoped>\n",
       "    .dataframe tbody tr th:only-of-type {\n",
       "        vertical-align: middle;\n",
       "    }\n",
       "\n",
       "    .dataframe tbody tr th {\n",
       "        vertical-align: top;\n",
       "    }\n",
       "\n",
       "    .dataframe thead th {\n",
       "        text-align: right;\n",
       "    }\n",
       "</style>\n",
       "<table border=\"1\" class=\"dataframe\">\n",
       "  <thead>\n",
       "    <tr style=\"text-align: right;\">\n",
       "      <th></th>\n",
       "      <th>Lyrics</th>\n",
       "      <th>Genre</th>\n",
       "      <th>Id</th>\n",
       "    </tr>\n",
       "  </thead>\n",
       "  <tbody>\n",
       "    <tr>\n",
       "      <th>0</th>\n",
       "      <td>Shape of you</td>\n",
       "      <td>Metal</td>\n",
       "      <td>1</td>\n",
       "    </tr>\n",
       "    <tr>\n",
       "      <th>1</th>\n",
       "      <td>Shape shape of you is square and circle</td>\n",
       "      <td>Rock</td>\n",
       "      <td>2</td>\n",
       "    </tr>\n",
       "    <tr>\n",
       "      <th>2</th>\n",
       "      <td>Running in circles with the shape</td>\n",
       "      <td>Rock</td>\n",
       "      <td>3</td>\n",
       "    </tr>\n",
       "    <tr>\n",
       "      <th>3</th>\n",
       "      <td>wow what a shape of you she has got them</td>\n",
       "      <td>Rock</td>\n",
       "      <td>4</td>\n",
       "    </tr>\n",
       "  </tbody>\n",
       "</table>\n",
       "</div>"
      ],
      "text/plain": [
       "                                     Lyrics  Genre  Id\n",
       "0                              Shape of you  Metal   1\n",
       "1   Shape shape of you is square and circle   Rock   2\n",
       "2         Running in circles with the shape   Rock   3\n",
       "3  wow what a shape of you she has got them   Rock   4"
      ]
     },
     "execution_count": 247,
     "metadata": {},
     "output_type": "execute_result"
    }
   ],
   "source": [
    "dummy"
   ]
  },
  {
   "cell_type": "code",
   "execution_count": 248,
   "metadata": {},
   "outputs": [],
   "source": [
    "dummy.Lyrics = dummy.Lyrics.str.lower()\n",
    "dummy['tokens'] = dummy.Lyrics.str.split()"
   ]
  },
  {
   "cell_type": "code",
   "execution_count": 249,
   "metadata": {},
   "outputs": [
    {
     "data": {
      "text/html": [
       "<div>\n",
       "<style scoped>\n",
       "    .dataframe tbody tr th:only-of-type {\n",
       "        vertical-align: middle;\n",
       "    }\n",
       "\n",
       "    .dataframe tbody tr th {\n",
       "        vertical-align: top;\n",
       "    }\n",
       "\n",
       "    .dataframe thead th {\n",
       "        text-align: right;\n",
       "    }\n",
       "</style>\n",
       "<table border=\"1\" class=\"dataframe\">\n",
       "  <thead>\n",
       "    <tr style=\"text-align: right;\">\n",
       "      <th></th>\n",
       "      <th>Lyrics</th>\n",
       "      <th>Genre</th>\n",
       "      <th>Id</th>\n",
       "      <th>tokens</th>\n",
       "    </tr>\n",
       "  </thead>\n",
       "  <tbody>\n",
       "    <tr>\n",
       "      <th>0</th>\n",
       "      <td>shape of you</td>\n",
       "      <td>Metal</td>\n",
       "      <td>1</td>\n",
       "      <td>[shape, of, you]</td>\n",
       "    </tr>\n",
       "    <tr>\n",
       "      <th>1</th>\n",
       "      <td>shape shape of you is square and circle</td>\n",
       "      <td>Rock</td>\n",
       "      <td>2</td>\n",
       "      <td>[shape, shape, of, you, is, square, and, circle]</td>\n",
       "    </tr>\n",
       "    <tr>\n",
       "      <th>2</th>\n",
       "      <td>running in circles with the shape</td>\n",
       "      <td>Rock</td>\n",
       "      <td>3</td>\n",
       "      <td>[running, in, circles, with, the, shape]</td>\n",
       "    </tr>\n",
       "    <tr>\n",
       "      <th>3</th>\n",
       "      <td>wow what a shape of you she has got them</td>\n",
       "      <td>Rock</td>\n",
       "      <td>4</td>\n",
       "      <td>[wow, what, a, shape, of, you, she, has, got, ...</td>\n",
       "    </tr>\n",
       "  </tbody>\n",
       "</table>\n",
       "</div>"
      ],
      "text/plain": [
       "                                     Lyrics  Genre  Id  \\\n",
       "0                              shape of you  Metal   1   \n",
       "1   shape shape of you is square and circle   Rock   2   \n",
       "2         running in circles with the shape   Rock   3   \n",
       "3  wow what a shape of you she has got them   Rock   4   \n",
       "\n",
       "                                              tokens  \n",
       "0                                   [shape, of, you]  \n",
       "1   [shape, shape, of, you, is, square, and, circle]  \n",
       "2           [running, in, circles, with, the, shape]  \n",
       "3  [wow, what, a, shape, of, you, she, has, got, ...  "
      ]
     },
     "execution_count": 249,
     "metadata": {},
     "output_type": "execute_result"
    }
   ],
   "source": [
    "dummy"
   ]
  },
  {
   "cell_type": "code",
   "execution_count": 250,
   "metadata": {},
   "outputs": [
    {
     "data": {
      "text/plain": [
       "list"
      ]
     },
     "execution_count": 250,
     "metadata": {},
     "output_type": "execute_result"
    }
   ],
   "source": [
    "type(dummy['tokens'][0])"
   ]
  },
  {
   "cell_type": "code",
   "execution_count": 275,
   "metadata": {},
   "outputs": [
    {
     "name": "stdout",
     "output_type": "stream",
     "text": [
      "Enter a song lyrics shape of you\n"
     ]
    },
    {
     "data": {
      "text/html": [
       "<div>\n",
       "<style scoped>\n",
       "    .dataframe tbody tr th:only-of-type {\n",
       "        vertical-align: middle;\n",
       "    }\n",
       "\n",
       "    .dataframe tbody tr th {\n",
       "        vertical-align: top;\n",
       "    }\n",
       "\n",
       "    .dataframe thead th {\n",
       "        text-align: right;\n",
       "    }\n",
       "</style>\n",
       "<table border=\"1\" class=\"dataframe\">\n",
       "  <thead>\n",
       "    <tr style=\"text-align: right;\">\n",
       "      <th></th>\n",
       "      <th>Lyrics</th>\n",
       "      <th>Genre</th>\n",
       "      <th>Id</th>\n",
       "      <th>tokens</th>\n",
       "      <th>similarity</th>\n",
       "    </tr>\n",
       "  </thead>\n",
       "  <tbody>\n",
       "    <tr>\n",
       "      <th>0</th>\n",
       "      <td>shape of you</td>\n",
       "      <td>Metal</td>\n",
       "      <td>1</td>\n",
       "      <td>[shape, of, you]</td>\n",
       "      <td>1.000000</td>\n",
       "    </tr>\n",
       "    <tr>\n",
       "      <th>1</th>\n",
       "      <td>shape shape of you is square and circle</td>\n",
       "      <td>Rock</td>\n",
       "      <td>2</td>\n",
       "      <td>[shape, shape, of, you, is, square, and, circle]</td>\n",
       "      <td>0.428571</td>\n",
       "    </tr>\n",
       "    <tr>\n",
       "      <th>3</th>\n",
       "      <td>wow what a shape of you she has got them</td>\n",
       "      <td>Rock</td>\n",
       "      <td>4</td>\n",
       "      <td>[wow, what, a, shape, of, you, she, has, got, ...</td>\n",
       "      <td>0.300000</td>\n",
       "    </tr>\n",
       "    <tr>\n",
       "      <th>2</th>\n",
       "      <td>running in circles with the shape</td>\n",
       "      <td>Rock</td>\n",
       "      <td>3</td>\n",
       "      <td>[running, in, circles, with, the, shape]</td>\n",
       "      <td>0.125000</td>\n",
       "    </tr>\n",
       "  </tbody>\n",
       "</table>\n",
       "</div>"
      ],
      "text/plain": [
       "                                     Lyrics  Genre  Id  \\\n",
       "0                              shape of you  Metal   1   \n",
       "1   shape shape of you is square and circle   Rock   2   \n",
       "3  wow what a shape of you she has got them   Rock   4   \n",
       "2         running in circles with the shape   Rock   3   \n",
       "\n",
       "                                              tokens  similarity  \n",
       "0                                   [shape, of, you]    1.000000  \n",
       "1   [shape, shape, of, you, is, square, and, circle]    0.428571  \n",
       "3  [wow, what, a, shape, of, you, she, has, got, ...    0.300000  \n",
       "2           [running, in, circles, with, the, shape]    0.125000  "
      ]
     },
     "execution_count": 275,
     "metadata": {},
     "output_type": "execute_result"
    }
   ],
   "source": [
    "dummy.Lyrics = dummy.Lyrics.str.lower()\n",
    "empty = []\n",
    "s = str(input('Enter a song lyrics '))\n",
    "list1 = s.split()\n",
    "for i in range(0,4):\n",
    "    list2 = dummy['tokens'][i]\n",
    "    s1 = set(list1)\n",
    "    s2 = set(list2) \n",
    "    empty.append(len(s1.intersection(s2)) / len(s1.union(s2)))\n",
    "\n",
    "sim = pd.DataFrame(empty,columns= ['similarity'])\n",
    "dummy = pd.concat([dummy,sim],axis=1)\n",
    "sort = dummy.sort_values('similarity',ascending = False)\n",
    "sort"
   ]
  },
  {
   "cell_type": "code",
   "execution_count": 276,
   "metadata": {},
   "outputs": [],
   "source": [
    "dummy.drop('similarity',inplace=True,axis=1)"
   ]
  },
  {
   "cell_type": "code",
   "execution_count": 271,
   "metadata": {},
   "outputs": [
    {
     "data": {
      "text/html": [
       "<div>\n",
       "<style scoped>\n",
       "    .dataframe tbody tr th:only-of-type {\n",
       "        vertical-align: middle;\n",
       "    }\n",
       "\n",
       "    .dataframe tbody tr th {\n",
       "        vertical-align: top;\n",
       "    }\n",
       "\n",
       "    .dataframe thead th {\n",
       "        text-align: right;\n",
       "    }\n",
       "</style>\n",
       "<table border=\"1\" class=\"dataframe\">\n",
       "  <thead>\n",
       "    <tr style=\"text-align: right;\">\n",
       "      <th></th>\n",
       "      <th>Lyrics</th>\n",
       "      <th>Genre</th>\n",
       "      <th>Id</th>\n",
       "      <th>tokens</th>\n",
       "      <th>similarity</th>\n",
       "    </tr>\n",
       "  </thead>\n",
       "  <tbody>\n",
       "    <tr>\n",
       "      <th>2</th>\n",
       "      <td>running in circles with the shape</td>\n",
       "      <td>Rock</td>\n",
       "      <td>3</td>\n",
       "      <td>[running, in, circles, with, the, shape]</td>\n",
       "      <td>0.125000</td>\n",
       "    </tr>\n",
       "    <tr>\n",
       "      <th>3</th>\n",
       "      <td>wow what a shape of you she has got them</td>\n",
       "      <td>Rock</td>\n",
       "      <td>4</td>\n",
       "      <td>[wow, what, a, shape, of, you, she, has, got, ...</td>\n",
       "      <td>0.300000</td>\n",
       "    </tr>\n",
       "    <tr>\n",
       "      <th>1</th>\n",
       "      <td>shape shape of you is square and circle</td>\n",
       "      <td>Rock</td>\n",
       "      <td>2</td>\n",
       "      <td>[shape, shape, of, you, is, square, and, circle]</td>\n",
       "      <td>0.428571</td>\n",
       "    </tr>\n",
       "    <tr>\n",
       "      <th>0</th>\n",
       "      <td>shape of you</td>\n",
       "      <td>Metal</td>\n",
       "      <td>1</td>\n",
       "      <td>[shape, of, you]</td>\n",
       "      <td>1.000000</td>\n",
       "    </tr>\n",
       "  </tbody>\n",
       "</table>\n",
       "</div>"
      ],
      "text/plain": [
       "                                     Lyrics  Genre  Id  \\\n",
       "2         running in circles with the shape   Rock   3   \n",
       "3  wow what a shape of you she has got them   Rock   4   \n",
       "1   shape shape of you is square and circle   Rock   2   \n",
       "0                              shape of you  Metal   1   \n",
       "\n",
       "                                              tokens  similarity  \n",
       "2           [running, in, circles, with, the, shape]    0.125000  \n",
       "3  [wow, what, a, shape, of, you, she, has, got, ...    0.300000  \n",
       "1   [shape, shape, of, you, is, square, and, circle]    0.428571  \n",
       "0                                   [shape, of, you]    1.000000  "
      ]
     },
     "execution_count": 271,
     "metadata": {},
     "output_type": "execute_result"
    }
   ],
   "source": [
    "sort"
   ]
  },
  {
   "cell_type": "code",
   "execution_count": 278,
   "metadata": {},
   "outputs": [
    {
     "data": {
      "text/html": [
       "<div>\n",
       "<style scoped>\n",
       "    .dataframe tbody tr th:only-of-type {\n",
       "        vertical-align: middle;\n",
       "    }\n",
       "\n",
       "    .dataframe tbody tr th {\n",
       "        vertical-align: top;\n",
       "    }\n",
       "\n",
       "    .dataframe thead th {\n",
       "        text-align: right;\n",
       "    }\n",
       "</style>\n",
       "<table border=\"1\" class=\"dataframe\">\n",
       "  <thead>\n",
       "    <tr style=\"text-align: right;\">\n",
       "      <th></th>\n",
       "      <th>Lyrics</th>\n",
       "      <th>Genre</th>\n",
       "      <th>Id</th>\n",
       "      <th>tokens</th>\n",
       "      <th>similarity</th>\n",
       "    </tr>\n",
       "  </thead>\n",
       "  <tbody>\n",
       "    <tr>\n",
       "      <th>0</th>\n",
       "      <td>shape of you</td>\n",
       "      <td>Metal</td>\n",
       "      <td>1</td>\n",
       "      <td>[shape, of, you]</td>\n",
       "      <td></td>\n",
       "    </tr>\n",
       "    <tr>\n",
       "      <th>1</th>\n",
       "      <td>shape shape of you is square and circle</td>\n",
       "      <td>Rock</td>\n",
       "      <td>2</td>\n",
       "      <td>[shape, shape, of, you, is, square, and, circle]</td>\n",
       "      <td></td>\n",
       "    </tr>\n",
       "    <tr>\n",
       "      <th>2</th>\n",
       "      <td>running in circles with the shape</td>\n",
       "      <td>Rock</td>\n",
       "      <td>3</td>\n",
       "      <td>[running, in, circles, with, the, shape]</td>\n",
       "      <td></td>\n",
       "    </tr>\n",
       "    <tr>\n",
       "      <th>3</th>\n",
       "      <td>wow what a shape of you she has got them</td>\n",
       "      <td>Rock</td>\n",
       "      <td>4</td>\n",
       "      <td>[wow, what, a, shape, of, you, she, has, got, ...</td>\n",
       "      <td></td>\n",
       "    </tr>\n",
       "  </tbody>\n",
       "</table>\n",
       "</div>"
      ],
      "text/plain": [
       "                                     Lyrics  Genre  Id  \\\n",
       "0                              shape of you  Metal   1   \n",
       "1   shape shape of you is square and circle   Rock   2   \n",
       "2         running in circles with the shape   Rock   3   \n",
       "3  wow what a shape of you she has got them   Rock   4   \n",
       "\n",
       "                                              tokens similarity  \n",
       "0                                   [shape, of, you]             \n",
       "1   [shape, shape, of, you, is, square, and, circle]             \n",
       "2           [running, in, circles, with, the, shape]             \n",
       "3  [wow, what, a, shape, of, you, she, has, got, ...             "
      ]
     },
     "execution_count": 278,
     "metadata": {},
     "output_type": "execute_result"
    }
   ],
   "source": [
    "dummy['similarity'] = \" \"\n",
    "dummy"
   ]
  },
  {
   "cell_type": "code",
   "execution_count": 279,
   "metadata": {},
   "outputs": [
    {
     "name": "stdout",
     "output_type": "stream",
     "text": [
      "Enter a song lyrics shape of you\n"
     ]
    },
    {
     "data": {
      "text/html": [
       "<div>\n",
       "<style scoped>\n",
       "    .dataframe tbody tr th:only-of-type {\n",
       "        vertical-align: middle;\n",
       "    }\n",
       "\n",
       "    .dataframe tbody tr th {\n",
       "        vertical-align: top;\n",
       "    }\n",
       "\n",
       "    .dataframe thead th {\n",
       "        text-align: right;\n",
       "    }\n",
       "</style>\n",
       "<table border=\"1\" class=\"dataframe\">\n",
       "  <thead>\n",
       "    <tr style=\"text-align: right;\">\n",
       "      <th></th>\n",
       "      <th>Lyrics</th>\n",
       "      <th>Genre</th>\n",
       "      <th>Id</th>\n",
       "      <th>tokens</th>\n",
       "      <th>similarity</th>\n",
       "    </tr>\n",
       "  </thead>\n",
       "  <tbody>\n",
       "    <tr>\n",
       "      <th>0</th>\n",
       "      <td>shape of you</td>\n",
       "      <td>Metal</td>\n",
       "      <td>1</td>\n",
       "      <td>[shape, of, you]</td>\n",
       "      <td>1</td>\n",
       "    </tr>\n",
       "    <tr>\n",
       "      <th>1</th>\n",
       "      <td>shape shape of you is square and circle</td>\n",
       "      <td>Rock</td>\n",
       "      <td>2</td>\n",
       "      <td>[shape, shape, of, you, is, square, and, circle]</td>\n",
       "      <td>0.428571</td>\n",
       "    </tr>\n",
       "    <tr>\n",
       "      <th>2</th>\n",
       "      <td>running in circles with the shape</td>\n",
       "      <td>Rock</td>\n",
       "      <td>3</td>\n",
       "      <td>[running, in, circles, with, the, shape]</td>\n",
       "      <td>0.125</td>\n",
       "    </tr>\n",
       "    <tr>\n",
       "      <th>3</th>\n",
       "      <td>wow what a shape of you she has got them</td>\n",
       "      <td>Rock</td>\n",
       "      <td>4</td>\n",
       "      <td>[wow, what, a, shape, of, you, she, has, got, ...</td>\n",
       "      <td>0.3</td>\n",
       "    </tr>\n",
       "  </tbody>\n",
       "</table>\n",
       "</div>"
      ],
      "text/plain": [
       "                                     Lyrics  Genre  Id  \\\n",
       "0                              shape of you  Metal   1   \n",
       "1   shape shape of you is square and circle   Rock   2   \n",
       "2         running in circles with the shape   Rock   3   \n",
       "3  wow what a shape of you she has got them   Rock   4   \n",
       "\n",
       "                                              tokens similarity  \n",
       "0                                   [shape, of, you]          1  \n",
       "1   [shape, shape, of, you, is, square, and, circle]   0.428571  \n",
       "2           [running, in, circles, with, the, shape]      0.125  \n",
       "3  [wow, what, a, shape, of, you, she, has, got, ...        0.3  "
      ]
     },
     "execution_count": 279,
     "metadata": {},
     "output_type": "execute_result"
    }
   ],
   "source": [
    "s = str(input('Enter a song lyrics '))\n",
    "list1 = s.split()\n",
    "for i in range(0,4):\n",
    "    list2 = dummy['tokens'][i]\n",
    "    s1 = set(list1)\n",
    "    s2 = set(list2) \n",
    "    dummy['similarity'][i] = (len(s1.intersection(s2)) / len(s1.union(s2)))\n",
    "\n",
    "dummy"
   ]
  },
  {
   "cell_type": "code",
   "execution_count": 281,
   "metadata": {},
   "outputs": [
    {
     "name": "stdout",
     "output_type": "stream",
     "text": [
      "Enter a song lyrics shape\n"
     ]
    },
    {
     "data": {
      "text/html": [
       "<div>\n",
       "<style scoped>\n",
       "    .dataframe tbody tr th:only-of-type {\n",
       "        vertical-align: middle;\n",
       "    }\n",
       "\n",
       "    .dataframe tbody tr th {\n",
       "        vertical-align: top;\n",
       "    }\n",
       "\n",
       "    .dataframe thead th {\n",
       "        text-align: right;\n",
       "    }\n",
       "</style>\n",
       "<table border=\"1\" class=\"dataframe\">\n",
       "  <thead>\n",
       "    <tr style=\"text-align: right;\">\n",
       "      <th></th>\n",
       "      <th>Lyrics</th>\n",
       "      <th>Genre</th>\n",
       "      <th>Id</th>\n",
       "      <th>tokens</th>\n",
       "      <th>similarity</th>\n",
       "    </tr>\n",
       "  </thead>\n",
       "  <tbody>\n",
       "    <tr>\n",
       "      <th>0</th>\n",
       "      <td>shape of you</td>\n",
       "      <td>Metal</td>\n",
       "      <td>1</td>\n",
       "      <td>[shape, of, you]</td>\n",
       "      <td>0.333333</td>\n",
       "    </tr>\n",
       "    <tr>\n",
       "      <th>1</th>\n",
       "      <td>shape shape of you is square and circle</td>\n",
       "      <td>Rock</td>\n",
       "      <td>2</td>\n",
       "      <td>[shape, shape, of, you, is, square, and, circle]</td>\n",
       "      <td>0.142857</td>\n",
       "    </tr>\n",
       "    <tr>\n",
       "      <th>2</th>\n",
       "      <td>running in circles with the shape</td>\n",
       "      <td>Rock</td>\n",
       "      <td>3</td>\n",
       "      <td>[running, in, circles, with, the, shape]</td>\n",
       "      <td>0.166667</td>\n",
       "    </tr>\n",
       "    <tr>\n",
       "      <th>3</th>\n",
       "      <td>wow what a shape of you she has got them</td>\n",
       "      <td>Rock</td>\n",
       "      <td>4</td>\n",
       "      <td>[wow, what, a, shape, of, you, she, has, got, ...</td>\n",
       "      <td>0.1</td>\n",
       "    </tr>\n",
       "  </tbody>\n",
       "</table>\n",
       "</div>"
      ],
      "text/plain": [
       "                                     Lyrics  Genre  Id  \\\n",
       "0                              shape of you  Metal   1   \n",
       "1   shape shape of you is square and circle   Rock   2   \n",
       "2         running in circles with the shape   Rock   3   \n",
       "3  wow what a shape of you she has got them   Rock   4   \n",
       "\n",
       "                                              tokens similarity  \n",
       "0                                   [shape, of, you]   0.333333  \n",
       "1   [shape, shape, of, you, is, square, and, circle]   0.142857  \n",
       "2           [running, in, circles, with, the, shape]   0.166667  \n",
       "3  [wow, what, a, shape, of, you, she, has, got, ...        0.1  "
      ]
     },
     "execution_count": 281,
     "metadata": {},
     "output_type": "execute_result"
    }
   ],
   "source": [
    "s = str(input('Enter a song lyrics '))\n",
    "list1 = s.split()\n",
    "for i in range(0,4):\n",
    "    list2 = dummy['tokens'][i]\n",
    "    s1 = set(list1)\n",
    "    s2 = set(list2) \n",
    "    dummy['similarity'][i] = (len(s1.intersection(s2)) / len(s1.union(s2)))\n",
    "\n",
    "dummy"
   ]
  },
  {
   "cell_type": "code",
   "execution_count": null,
   "metadata": {},
   "outputs": [],
   "source": []
  }
 ],
 "metadata": {
  "kernelspec": {
   "display_name": "Python 3",
   "language": "python",
   "name": "python3"
  },
  "language_info": {
   "codemirror_mode": {
    "name": "ipython",
    "version": 3
   },
   "file_extension": ".py",
   "mimetype": "text/x-python",
   "name": "python",
   "nbconvert_exporter": "python",
   "pygments_lexer": "ipython3",
   "version": "3.7.6"
  }
 },
 "nbformat": 4,
 "nbformat_minor": 4
}
